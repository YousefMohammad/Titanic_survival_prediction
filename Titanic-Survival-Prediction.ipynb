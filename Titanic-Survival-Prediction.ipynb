{
 "cells": [
  {
   "cell_type": "markdown",
   "id": "12564a2c",
   "metadata": {
    "papermill": {
     "duration": 0.045285,
     "end_time": "2024-01-29T11:01:40.823816",
     "exception": false,
     "start_time": "2024-01-29T11:01:40.778531",
     "status": "completed"
    },
    "tags": []
   },
   "source": [
    "# Titanic Survival Prediction"
   ]
  },
  {
   "cell_type": "code",
   "execution_count": 1,
   "id": "0537cd7b",
   "metadata": {
    "papermill": {
     "duration": 4.349366,
     "end_time": "2024-01-29T11:01:45.302563",
     "exception": false,
     "start_time": "2024-01-29T11:01:40.953197",
     "status": "completed"
    },
    "tags": []
   },
   "outputs": [],
   "source": [
    "# Import Libraries\n",
    "import numpy as np \n",
    "import pandas as pd \n",
    "\n",
    "# Visualisation\n",
    "import matplotlib.pyplot as plt\n",
    "\n",
    "import plotly.express as px\n",
    "\n",
    "import plotly.graph_objects as go\n",
    "\n",
    "import seaborn as sns\n",
    "\n",
    "%matplotlib inline\n",
    "\n",
    "# Data Preprocessing\n",
    "from sklearn.model_selection import (train_test_split,  \n",
    "                                     \n",
    "                                     cross_val_score, cross_val_predict, \n",
    "                             \n",
    "                                     learning_curve, KFold, \n",
    "                             \n",
    "                                     StratifiedShuffleSplit, StratifiedKFold, \n",
    "                             \n",
    "                                     GridSearchCV, RandomizedSearchCV)\n",
    "\n",
    "from sklearn.preprocessing import StandardScaler, OneHotEncoder, LabelEncoder\n",
    "\n",
    "from sklearn import feature_selection, model_selection, metrics\n",
    "\n",
    "from sklearn.metrics import confusion_matrix, mean_absolute_error\n",
    "\n",
    "# Models\n",
    "\n",
    "from sklearn.neighbors import KNeighborsClassifier\n",
    "\n",
    "from sklearn.svm import SVC\n",
    "\n",
    "from sklearn.naive_bayes import GaussianNB\n",
    "\n",
    "from sklearn.linear_model import LogisticRegression\n",
    "\n",
    "from xgboost import XGBClassifier\n",
    "\n",
    "from sklearn.discriminant_analysis import LinearDiscriminantAnalysis\n",
    "\n",
    "from sklearn.neighbors import KNeighborsClassifier\n",
    "\n",
    "from sklearn.tree import DecisionTreeClassifier\n",
    "\n",
    "from sklearn.neural_network import MLPClassifier\n",
    "\n",
    "# Ensemble\n",
    "from sklearn.ensemble import (VotingClassifier, StackingClassifier, \n",
    "                              \n",
    "                              RandomForestClassifier, AdaBoostClassifier, \n",
    "                              \n",
    "                              GradientBoostingClassifier, ExtraTreesClassifier)\n",
    "\n",
    "# Warnings\n",
    "import warnings\n",
    "warnings.filterwarnings('ignore')"
   ]
  },
  {
   "cell_type": "markdown",
   "id": "b8903626-acb1-4d09-9326-e42d110f7af4",
   "metadata": {},
   "source": [
    "# Data Wrangling"
   ]
  },
  {
   "cell_type": "code",
   "execution_count": 2,
   "id": "32a3bd94",
   "metadata": {
    "papermill": {
     "duration": 0.092169,
     "end_time": "2024-01-29T11:01:45.439368",
     "exception": false,
     "start_time": "2024-01-29T11:01:45.347199",
     "status": "completed"
    },
    "tags": []
   },
   "outputs": [],
   "source": [
    "train = pd.read_csv('train.csv')\n",
    "test = pd.read_csv('test.csv')\n",
    "sample_submission = pd.read_csv('gender_submission.csv')"
   ]
  },
  {
   "cell_type": "code",
   "execution_count": 3,
   "id": "98282cc6",
   "metadata": {
    "papermill": {
     "duration": 0.090505,
     "end_time": "2024-01-29T11:01:45.580729",
     "exception": false,
     "start_time": "2024-01-29T11:01:45.490224",
     "status": "completed"
    },
    "tags": []
   },
   "outputs": [
    {
     "data": {
      "text/html": [
       "<div>\n",
       "<style scoped>\n",
       "    .dataframe tbody tr th:only-of-type {\n",
       "        vertical-align: middle;\n",
       "    }\n",
       "\n",
       "    .dataframe tbody tr th {\n",
       "        vertical-align: top;\n",
       "    }\n",
       "\n",
       "    .dataframe thead th {\n",
       "        text-align: right;\n",
       "    }\n",
       "</style>\n",
       "<table border=\"1\" class=\"dataframe\">\n",
       "  <thead>\n",
       "    <tr style=\"text-align: right;\">\n",
       "      <th></th>\n",
       "      <th>PassengerId</th>\n",
       "      <th>Survived</th>\n",
       "      <th>Pclass</th>\n",
       "      <th>Name</th>\n",
       "      <th>Sex</th>\n",
       "      <th>Age</th>\n",
       "      <th>SibSp</th>\n",
       "      <th>Parch</th>\n",
       "      <th>Ticket</th>\n",
       "      <th>Fare</th>\n",
       "      <th>Cabin</th>\n",
       "      <th>Embarked</th>\n",
       "    </tr>\n",
       "  </thead>\n",
       "  <tbody>\n",
       "    <tr>\n",
       "      <th>0</th>\n",
       "      <td>1</td>\n",
       "      <td>0</td>\n",
       "      <td>3</td>\n",
       "      <td>Braund, Mr. Owen Harris</td>\n",
       "      <td>male</td>\n",
       "      <td>22.0</td>\n",
       "      <td>1</td>\n",
       "      <td>0</td>\n",
       "      <td>A/5 21171</td>\n",
       "      <td>7.2500</td>\n",
       "      <td>NaN</td>\n",
       "      <td>S</td>\n",
       "    </tr>\n",
       "    <tr>\n",
       "      <th>1</th>\n",
       "      <td>2</td>\n",
       "      <td>1</td>\n",
       "      <td>1</td>\n",
       "      <td>Cumings, Mrs. John Bradley (Florence Briggs Th...</td>\n",
       "      <td>female</td>\n",
       "      <td>38.0</td>\n",
       "      <td>1</td>\n",
       "      <td>0</td>\n",
       "      <td>PC 17599</td>\n",
       "      <td>71.2833</td>\n",
       "      <td>C85</td>\n",
       "      <td>C</td>\n",
       "    </tr>\n",
       "    <tr>\n",
       "      <th>2</th>\n",
       "      <td>3</td>\n",
       "      <td>1</td>\n",
       "      <td>3</td>\n",
       "      <td>Heikkinen, Miss. Laina</td>\n",
       "      <td>female</td>\n",
       "      <td>26.0</td>\n",
       "      <td>0</td>\n",
       "      <td>0</td>\n",
       "      <td>STON/O2. 3101282</td>\n",
       "      <td>7.9250</td>\n",
       "      <td>NaN</td>\n",
       "      <td>S</td>\n",
       "    </tr>\n",
       "    <tr>\n",
       "      <th>3</th>\n",
       "      <td>4</td>\n",
       "      <td>1</td>\n",
       "      <td>1</td>\n",
       "      <td>Futrelle, Mrs. Jacques Heath (Lily May Peel)</td>\n",
       "      <td>female</td>\n",
       "      <td>35.0</td>\n",
       "      <td>1</td>\n",
       "      <td>0</td>\n",
       "      <td>113803</td>\n",
       "      <td>53.1000</td>\n",
       "      <td>C123</td>\n",
       "      <td>S</td>\n",
       "    </tr>\n",
       "    <tr>\n",
       "      <th>4</th>\n",
       "      <td>5</td>\n",
       "      <td>0</td>\n",
       "      <td>3</td>\n",
       "      <td>Allen, Mr. William Henry</td>\n",
       "      <td>male</td>\n",
       "      <td>35.0</td>\n",
       "      <td>0</td>\n",
       "      <td>0</td>\n",
       "      <td>373450</td>\n",
       "      <td>8.0500</td>\n",
       "      <td>NaN</td>\n",
       "      <td>S</td>\n",
       "    </tr>\n",
       "  </tbody>\n",
       "</table>\n",
       "</div>"
      ],
      "text/plain": [
       "   PassengerId  Survived  Pclass  \\\n",
       "0            1         0       3   \n",
       "1            2         1       1   \n",
       "2            3         1       3   \n",
       "3            4         1       1   \n",
       "4            5         0       3   \n",
       "\n",
       "                                                Name     Sex   Age  SibSp  \\\n",
       "0                            Braund, Mr. Owen Harris    male  22.0      1   \n",
       "1  Cumings, Mrs. John Bradley (Florence Briggs Th...  female  38.0      1   \n",
       "2                             Heikkinen, Miss. Laina  female  26.0      0   \n",
       "3       Futrelle, Mrs. Jacques Heath (Lily May Peel)  female  35.0      1   \n",
       "4                           Allen, Mr. William Henry    male  35.0      0   \n",
       "\n",
       "   Parch            Ticket     Fare Cabin Embarked  \n",
       "0      0         A/5 21171   7.2500   NaN        S  \n",
       "1      0          PC 17599  71.2833   C85        C  \n",
       "2      0  STON/O2. 3101282   7.9250   NaN        S  \n",
       "3      0            113803  53.1000  C123        S  \n",
       "4      0            373450   8.0500   NaN        S  "
      ]
     },
     "execution_count": 3,
     "metadata": {},
     "output_type": "execute_result"
    }
   ],
   "source": [
    "train.head()"
   ]
  },
  {
   "cell_type": "code",
   "execution_count": 4,
   "id": "f8e350f1",
   "metadata": {
    "papermill": {
     "duration": 0.102906,
     "end_time": "2024-01-29T11:01:45.736349",
     "exception": false,
     "start_time": "2024-01-29T11:01:45.633443",
     "status": "completed"
    },
    "tags": []
   },
   "outputs": [
    {
     "data": {
      "text/html": [
       "<div>\n",
       "<style scoped>\n",
       "    .dataframe tbody tr th:only-of-type {\n",
       "        vertical-align: middle;\n",
       "    }\n",
       "\n",
       "    .dataframe tbody tr th {\n",
       "        vertical-align: top;\n",
       "    }\n",
       "\n",
       "    .dataframe thead th {\n",
       "        text-align: right;\n",
       "    }\n",
       "</style>\n",
       "<table border=\"1\" class=\"dataframe\">\n",
       "  <thead>\n",
       "    <tr style=\"text-align: right;\">\n",
       "      <th></th>\n",
       "      <th>PassengerId</th>\n",
       "      <th>Pclass</th>\n",
       "      <th>Name</th>\n",
       "      <th>Sex</th>\n",
       "      <th>Age</th>\n",
       "      <th>SibSp</th>\n",
       "      <th>Parch</th>\n",
       "      <th>Ticket</th>\n",
       "      <th>Fare</th>\n",
       "      <th>Cabin</th>\n",
       "      <th>Embarked</th>\n",
       "    </tr>\n",
       "  </thead>\n",
       "  <tbody>\n",
       "    <tr>\n",
       "      <th>0</th>\n",
       "      <td>892</td>\n",
       "      <td>3</td>\n",
       "      <td>Kelly, Mr. James</td>\n",
       "      <td>male</td>\n",
       "      <td>34.5</td>\n",
       "      <td>0</td>\n",
       "      <td>0</td>\n",
       "      <td>330911</td>\n",
       "      <td>7.8292</td>\n",
       "      <td>NaN</td>\n",
       "      <td>Q</td>\n",
       "    </tr>\n",
       "    <tr>\n",
       "      <th>1</th>\n",
       "      <td>893</td>\n",
       "      <td>3</td>\n",
       "      <td>Wilkes, Mrs. James (Ellen Needs)</td>\n",
       "      <td>female</td>\n",
       "      <td>47.0</td>\n",
       "      <td>1</td>\n",
       "      <td>0</td>\n",
       "      <td>363272</td>\n",
       "      <td>7.0000</td>\n",
       "      <td>NaN</td>\n",
       "      <td>S</td>\n",
       "    </tr>\n",
       "    <tr>\n",
       "      <th>2</th>\n",
       "      <td>894</td>\n",
       "      <td>2</td>\n",
       "      <td>Myles, Mr. Thomas Francis</td>\n",
       "      <td>male</td>\n",
       "      <td>62.0</td>\n",
       "      <td>0</td>\n",
       "      <td>0</td>\n",
       "      <td>240276</td>\n",
       "      <td>9.6875</td>\n",
       "      <td>NaN</td>\n",
       "      <td>Q</td>\n",
       "    </tr>\n",
       "    <tr>\n",
       "      <th>3</th>\n",
       "      <td>895</td>\n",
       "      <td>3</td>\n",
       "      <td>Wirz, Mr. Albert</td>\n",
       "      <td>male</td>\n",
       "      <td>27.0</td>\n",
       "      <td>0</td>\n",
       "      <td>0</td>\n",
       "      <td>315154</td>\n",
       "      <td>8.6625</td>\n",
       "      <td>NaN</td>\n",
       "      <td>S</td>\n",
       "    </tr>\n",
       "    <tr>\n",
       "      <th>4</th>\n",
       "      <td>896</td>\n",
       "      <td>3</td>\n",
       "      <td>Hirvonen, Mrs. Alexander (Helga E Lindqvist)</td>\n",
       "      <td>female</td>\n",
       "      <td>22.0</td>\n",
       "      <td>1</td>\n",
       "      <td>1</td>\n",
       "      <td>3101298</td>\n",
       "      <td>12.2875</td>\n",
       "      <td>NaN</td>\n",
       "      <td>S</td>\n",
       "    </tr>\n",
       "  </tbody>\n",
       "</table>\n",
       "</div>"
      ],
      "text/plain": [
       "   PassengerId  Pclass                                          Name     Sex  \\\n",
       "0          892       3                              Kelly, Mr. James    male   \n",
       "1          893       3              Wilkes, Mrs. James (Ellen Needs)  female   \n",
       "2          894       2                     Myles, Mr. Thomas Francis    male   \n",
       "3          895       3                              Wirz, Mr. Albert    male   \n",
       "4          896       3  Hirvonen, Mrs. Alexander (Helga E Lindqvist)  female   \n",
       "\n",
       "    Age  SibSp  Parch   Ticket     Fare Cabin Embarked  \n",
       "0  34.5      0      0   330911   7.8292   NaN        Q  \n",
       "1  47.0      1      0   363272   7.0000   NaN        S  \n",
       "2  62.0      0      0   240276   9.6875   NaN        Q  \n",
       "3  27.0      0      0   315154   8.6625   NaN        S  \n",
       "4  22.0      1      1  3101298  12.2875   NaN        S  "
      ]
     },
     "execution_count": 4,
     "metadata": {},
     "output_type": "execute_result"
    }
   ],
   "source": [
    "test.head()"
   ]
  },
  {
   "cell_type": "code",
   "execution_count": 5,
   "id": "20077298",
   "metadata": {
    "papermill": {
     "duration": 0.065146,
     "end_time": "2024-01-29T11:01:45.847504",
     "exception": false,
     "start_time": "2024-01-29T11:01:45.782358",
     "status": "completed"
    },
    "tags": []
   },
   "outputs": [
    {
     "data": {
      "text/html": [
       "<div>\n",
       "<style scoped>\n",
       "    .dataframe tbody tr th:only-of-type {\n",
       "        vertical-align: middle;\n",
       "    }\n",
       "\n",
       "    .dataframe tbody tr th {\n",
       "        vertical-align: top;\n",
       "    }\n",
       "\n",
       "    .dataframe thead th {\n",
       "        text-align: right;\n",
       "    }\n",
       "</style>\n",
       "<table border=\"1\" class=\"dataframe\">\n",
       "  <thead>\n",
       "    <tr style=\"text-align: right;\">\n",
       "      <th></th>\n",
       "      <th>PassengerId</th>\n",
       "      <th>Survived</th>\n",
       "    </tr>\n",
       "  </thead>\n",
       "  <tbody>\n",
       "    <tr>\n",
       "      <th>0</th>\n",
       "      <td>892</td>\n",
       "      <td>0</td>\n",
       "    </tr>\n",
       "    <tr>\n",
       "      <th>1</th>\n",
       "      <td>893</td>\n",
       "      <td>1</td>\n",
       "    </tr>\n",
       "    <tr>\n",
       "      <th>2</th>\n",
       "      <td>894</td>\n",
       "      <td>0</td>\n",
       "    </tr>\n",
       "    <tr>\n",
       "      <th>3</th>\n",
       "      <td>895</td>\n",
       "      <td>0</td>\n",
       "    </tr>\n",
       "    <tr>\n",
       "      <th>4</th>\n",
       "      <td>896</td>\n",
       "      <td>1</td>\n",
       "    </tr>\n",
       "  </tbody>\n",
       "</table>\n",
       "</div>"
      ],
      "text/plain": [
       "   PassengerId  Survived\n",
       "0          892         0\n",
       "1          893         1\n",
       "2          894         0\n",
       "3          895         0\n",
       "4          896         1"
      ]
     },
     "execution_count": 5,
     "metadata": {},
     "output_type": "execute_result"
    }
   ],
   "source": [
    "sample_submission.head()"
   ]
  },
  {
   "cell_type": "code",
   "execution_count": 6,
   "id": "ef2c0940",
   "metadata": {
    "papermill": {
     "duration": 0.08365,
     "end_time": "2024-01-29T11:01:45.979453",
     "exception": false,
     "start_time": "2024-01-29T11:01:45.895803",
     "status": "completed"
    },
    "tags": []
   },
   "outputs": [
    {
     "data": {
      "text/html": [
       "<div>\n",
       "<style scoped>\n",
       "    .dataframe tbody tr th:only-of-type {\n",
       "        vertical-align: middle;\n",
       "    }\n",
       "\n",
       "    .dataframe tbody tr th {\n",
       "        vertical-align: top;\n",
       "    }\n",
       "\n",
       "    .dataframe thead th {\n",
       "        text-align: right;\n",
       "    }\n",
       "</style>\n",
       "<table border=\"1\" class=\"dataframe\">\n",
       "  <thead>\n",
       "    <tr style=\"text-align: right;\">\n",
       "      <th></th>\n",
       "      <th>PassengerId</th>\n",
       "      <th>Survived</th>\n",
       "      <th>Pclass</th>\n",
       "      <th>Name</th>\n",
       "      <th>Sex</th>\n",
       "      <th>Age</th>\n",
       "      <th>SibSp</th>\n",
       "      <th>Parch</th>\n",
       "      <th>Ticket</th>\n",
       "      <th>Fare</th>\n",
       "      <th>Cabin</th>\n",
       "      <th>Embarked</th>\n",
       "    </tr>\n",
       "  </thead>\n",
       "  <tbody>\n",
       "    <tr>\n",
       "      <th>0</th>\n",
       "      <td>1</td>\n",
       "      <td>0.0</td>\n",
       "      <td>3</td>\n",
       "      <td>Braund, Mr. Owen Harris</td>\n",
       "      <td>male</td>\n",
       "      <td>22.0</td>\n",
       "      <td>1</td>\n",
       "      <td>0</td>\n",
       "      <td>A/5 21171</td>\n",
       "      <td>7.2500</td>\n",
       "      <td>NaN</td>\n",
       "      <td>S</td>\n",
       "    </tr>\n",
       "    <tr>\n",
       "      <th>1</th>\n",
       "      <td>2</td>\n",
       "      <td>1.0</td>\n",
       "      <td>1</td>\n",
       "      <td>Cumings, Mrs. John Bradley (Florence Briggs Th...</td>\n",
       "      <td>female</td>\n",
       "      <td>38.0</td>\n",
       "      <td>1</td>\n",
       "      <td>0</td>\n",
       "      <td>PC 17599</td>\n",
       "      <td>71.2833</td>\n",
       "      <td>C85</td>\n",
       "      <td>C</td>\n",
       "    </tr>\n",
       "    <tr>\n",
       "      <th>2</th>\n",
       "      <td>3</td>\n",
       "      <td>1.0</td>\n",
       "      <td>3</td>\n",
       "      <td>Heikkinen, Miss. Laina</td>\n",
       "      <td>female</td>\n",
       "      <td>26.0</td>\n",
       "      <td>0</td>\n",
       "      <td>0</td>\n",
       "      <td>STON/O2. 3101282</td>\n",
       "      <td>7.9250</td>\n",
       "      <td>NaN</td>\n",
       "      <td>S</td>\n",
       "    </tr>\n",
       "    <tr>\n",
       "      <th>3</th>\n",
       "      <td>4</td>\n",
       "      <td>1.0</td>\n",
       "      <td>1</td>\n",
       "      <td>Futrelle, Mrs. Jacques Heath (Lily May Peel)</td>\n",
       "      <td>female</td>\n",
       "      <td>35.0</td>\n",
       "      <td>1</td>\n",
       "      <td>0</td>\n",
       "      <td>113803</td>\n",
       "      <td>53.1000</td>\n",
       "      <td>C123</td>\n",
       "      <td>S</td>\n",
       "    </tr>\n",
       "    <tr>\n",
       "      <th>4</th>\n",
       "      <td>5</td>\n",
       "      <td>0.0</td>\n",
       "      <td>3</td>\n",
       "      <td>Allen, Mr. William Henry</td>\n",
       "      <td>male</td>\n",
       "      <td>35.0</td>\n",
       "      <td>0</td>\n",
       "      <td>0</td>\n",
       "      <td>373450</td>\n",
       "      <td>8.0500</td>\n",
       "      <td>NaN</td>\n",
       "      <td>S</td>\n",
       "    </tr>\n",
       "  </tbody>\n",
       "</table>\n",
       "</div>"
      ],
      "text/plain": [
       "   PassengerId  Survived  Pclass  \\\n",
       "0            1       0.0       3   \n",
       "1            2       1.0       1   \n",
       "2            3       1.0       3   \n",
       "3            4       1.0       1   \n",
       "4            5       0.0       3   \n",
       "\n",
       "                                                Name     Sex   Age  SibSp  \\\n",
       "0                            Braund, Mr. Owen Harris    male  22.0      1   \n",
       "1  Cumings, Mrs. John Bradley (Florence Briggs Th...  female  38.0      1   \n",
       "2                             Heikkinen, Miss. Laina  female  26.0      0   \n",
       "3       Futrelle, Mrs. Jacques Heath (Lily May Peel)  female  35.0      1   \n",
       "4                           Allen, Mr. William Henry    male  35.0      0   \n",
       "\n",
       "   Parch            Ticket     Fare Cabin Embarked  \n",
       "0      0         A/5 21171   7.2500   NaN        S  \n",
       "1      0          PC 17599  71.2833   C85        C  \n",
       "2      0  STON/O2. 3101282   7.9250   NaN        S  \n",
       "3      0            113803  53.1000  C123        S  \n",
       "4      0            373450   8.0500   NaN        S  "
      ]
     },
     "execution_count": 6,
     "metadata": {},
     "output_type": "execute_result"
    }
   ],
   "source": [
    "df = pd.concat([train,test])\n",
    "\n",
    "df.head()"
   ]
  },
  {
   "cell_type": "code",
   "execution_count": 7,
   "id": "6921df50-15d9-4e44-8005-0653e25d0e3e",
   "metadata": {},
   "outputs": [],
   "source": [
    "df.rename(columns = lambda x: x.lower(),inplace = True)"
   ]
  },
  {
   "cell_type": "code",
   "execution_count": 8,
   "id": "a2339e9b",
   "metadata": {
    "papermill": {
     "duration": 0.084051,
     "end_time": "2024-01-29T11:01:46.111915",
     "exception": false,
     "start_time": "2024-01-29T11:01:46.027864",
     "status": "completed"
    },
    "tags": []
   },
   "outputs": [
    {
     "name": "stdout",
     "output_type": "stream",
     "text": [
      "<class 'pandas.core.frame.DataFrame'>\n",
      "Int64Index: 1309 entries, 0 to 417\n",
      "Data columns (total 12 columns):\n",
      " #   Column       Non-Null Count  Dtype  \n",
      "---  ------       --------------  -----  \n",
      " 0   passengerid  1309 non-null   int64  \n",
      " 1   survived     891 non-null    float64\n",
      " 2   pclass       1309 non-null   int64  \n",
      " 3   name         1309 non-null   object \n",
      " 4   sex          1309 non-null   object \n",
      " 5   age          1046 non-null   float64\n",
      " 6   sibsp        1309 non-null   int64  \n",
      " 7   parch        1309 non-null   int64  \n",
      " 8   ticket       1309 non-null   object \n",
      " 9   fare         1308 non-null   float64\n",
      " 10  cabin        295 non-null    object \n",
      " 11  embarked     1307 non-null   object \n",
      "dtypes: float64(3), int64(4), object(5)\n",
      "memory usage: 132.9+ KB\n"
     ]
    }
   ],
   "source": [
    "df.info()"
   ]
  },
  {
   "cell_type": "code",
   "execution_count": 9,
   "id": "b90d2c13",
   "metadata": {
    "papermill": {
     "duration": 0.087547,
     "end_time": "2024-01-29T11:01:46.245239",
     "exception": false,
     "start_time": "2024-01-29T11:01:46.157692",
     "status": "completed"
    },
    "tags": []
   },
   "outputs": [
    {
     "data": {
      "text/html": [
       "<div>\n",
       "<style scoped>\n",
       "    .dataframe tbody tr th:only-of-type {\n",
       "        vertical-align: middle;\n",
       "    }\n",
       "\n",
       "    .dataframe tbody tr th {\n",
       "        vertical-align: top;\n",
       "    }\n",
       "\n",
       "    .dataframe thead th {\n",
       "        text-align: right;\n",
       "    }\n",
       "</style>\n",
       "<table border=\"1\" class=\"dataframe\">\n",
       "  <thead>\n",
       "    <tr style=\"text-align: right;\">\n",
       "      <th></th>\n",
       "      <th>passengerid</th>\n",
       "      <th>survived</th>\n",
       "      <th>pclass</th>\n",
       "      <th>age</th>\n",
       "      <th>sibsp</th>\n",
       "      <th>parch</th>\n",
       "      <th>fare</th>\n",
       "    </tr>\n",
       "  </thead>\n",
       "  <tbody>\n",
       "    <tr>\n",
       "      <th>count</th>\n",
       "      <td>1309.000000</td>\n",
       "      <td>891.000000</td>\n",
       "      <td>1309.000000</td>\n",
       "      <td>1046.000000</td>\n",
       "      <td>1309.000000</td>\n",
       "      <td>1309.000000</td>\n",
       "      <td>1308.000000</td>\n",
       "    </tr>\n",
       "    <tr>\n",
       "      <th>mean</th>\n",
       "      <td>655.000000</td>\n",
       "      <td>0.383838</td>\n",
       "      <td>2.294882</td>\n",
       "      <td>29.881138</td>\n",
       "      <td>0.498854</td>\n",
       "      <td>0.385027</td>\n",
       "      <td>33.295479</td>\n",
       "    </tr>\n",
       "    <tr>\n",
       "      <th>std</th>\n",
       "      <td>378.020061</td>\n",
       "      <td>0.486592</td>\n",
       "      <td>0.837836</td>\n",
       "      <td>14.413493</td>\n",
       "      <td>1.041658</td>\n",
       "      <td>0.865560</td>\n",
       "      <td>51.758668</td>\n",
       "    </tr>\n",
       "    <tr>\n",
       "      <th>min</th>\n",
       "      <td>1.000000</td>\n",
       "      <td>0.000000</td>\n",
       "      <td>1.000000</td>\n",
       "      <td>0.170000</td>\n",
       "      <td>0.000000</td>\n",
       "      <td>0.000000</td>\n",
       "      <td>0.000000</td>\n",
       "    </tr>\n",
       "    <tr>\n",
       "      <th>25%</th>\n",
       "      <td>328.000000</td>\n",
       "      <td>0.000000</td>\n",
       "      <td>2.000000</td>\n",
       "      <td>21.000000</td>\n",
       "      <td>0.000000</td>\n",
       "      <td>0.000000</td>\n",
       "      <td>7.895800</td>\n",
       "    </tr>\n",
       "    <tr>\n",
       "      <th>50%</th>\n",
       "      <td>655.000000</td>\n",
       "      <td>0.000000</td>\n",
       "      <td>3.000000</td>\n",
       "      <td>28.000000</td>\n",
       "      <td>0.000000</td>\n",
       "      <td>0.000000</td>\n",
       "      <td>14.454200</td>\n",
       "    </tr>\n",
       "    <tr>\n",
       "      <th>75%</th>\n",
       "      <td>982.000000</td>\n",
       "      <td>1.000000</td>\n",
       "      <td>3.000000</td>\n",
       "      <td>39.000000</td>\n",
       "      <td>1.000000</td>\n",
       "      <td>0.000000</td>\n",
       "      <td>31.275000</td>\n",
       "    </tr>\n",
       "    <tr>\n",
       "      <th>max</th>\n",
       "      <td>1309.000000</td>\n",
       "      <td>1.000000</td>\n",
       "      <td>3.000000</td>\n",
       "      <td>80.000000</td>\n",
       "      <td>8.000000</td>\n",
       "      <td>9.000000</td>\n",
       "      <td>512.329200</td>\n",
       "    </tr>\n",
       "  </tbody>\n",
       "</table>\n",
       "</div>"
      ],
      "text/plain": [
       "       passengerid    survived       pclass          age        sibsp  \\\n",
       "count  1309.000000  891.000000  1309.000000  1046.000000  1309.000000   \n",
       "mean    655.000000    0.383838     2.294882    29.881138     0.498854   \n",
       "std     378.020061    0.486592     0.837836    14.413493     1.041658   \n",
       "min       1.000000    0.000000     1.000000     0.170000     0.000000   \n",
       "25%     328.000000    0.000000     2.000000    21.000000     0.000000   \n",
       "50%     655.000000    0.000000     3.000000    28.000000     0.000000   \n",
       "75%     982.000000    1.000000     3.000000    39.000000     1.000000   \n",
       "max    1309.000000    1.000000     3.000000    80.000000     8.000000   \n",
       "\n",
       "             parch         fare  \n",
       "count  1309.000000  1308.000000  \n",
       "mean      0.385027    33.295479  \n",
       "std       0.865560    51.758668  \n",
       "min       0.000000     0.000000  \n",
       "25%       0.000000     7.895800  \n",
       "50%       0.000000    14.454200  \n",
       "75%       0.000000    31.275000  \n",
       "max       9.000000   512.329200  "
      ]
     },
     "execution_count": 9,
     "metadata": {},
     "output_type": "execute_result"
    }
   ],
   "source": [
    "df.describe()"
   ]
  },
  {
   "cell_type": "code",
   "execution_count": 10,
   "id": "847adbda",
   "metadata": {
    "papermill": {
     "duration": 0.06133,
     "end_time": "2024-01-29T11:01:46.351241",
     "exception": false,
     "start_time": "2024-01-29T11:01:46.289911",
     "status": "completed"
    },
    "tags": []
   },
   "outputs": [
    {
     "data": {
      "text/plain": [
       "passengerid       0\n",
       "survived        418\n",
       "pclass            0\n",
       "name              0\n",
       "sex               0\n",
       "age             263\n",
       "sibsp             0\n",
       "parch             0\n",
       "ticket            0\n",
       "fare              1\n",
       "cabin          1014\n",
       "embarked          2\n",
       "dtype: int64"
      ]
     },
     "execution_count": 10,
     "metadata": {},
     "output_type": "execute_result"
    }
   ],
   "source": [
    "df.isnull().sum()"
   ]
  },
  {
   "cell_type": "markdown",
   "id": "9998e308",
   "metadata": {
    "papermill": {
     "duration": 0.044361,
     "end_time": "2024-01-29T11:01:46.440290",
     "exception": false,
     "start_time": "2024-01-29T11:01:46.395929",
     "status": "completed"
    },
    "tags": []
   },
   "source": [
    "# Investigating Data"
   ]
  },
  {
   "cell_type": "code",
   "execution_count": 11,
   "id": "ad2e1bb1",
   "metadata": {
    "papermill": {
     "duration": 0.321718,
     "end_time": "2024-01-29T11:01:46.807463",
     "exception": false,
     "start_time": "2024-01-29T11:01:46.485745",
     "status": "completed"
    },
    "tags": []
   },
   "outputs": [
    {
     "data": {
      "text/plain": [
       "Text(0.5, 1.0, 'The percentage of Survival')"
      ]
     },
     "execution_count": 11,
     "metadata": {},
     "output_type": "execute_result"
    },
    {
     "data": {
      "image/png": "[encoded data removed]",
      "text/plain": [
       "<Figure size 640x480 with 1 Axes>"
      ]
     },
     "metadata": {},
     "output_type": "display_data"
    }
   ],
   "source": [
    "survival = df['survived'].value_counts()\n",
    "\n",
    "plt.pie(survival,labels=survival.index, autopct=\"%1.1f%%\")\n",
    "\n",
    "plt.legend(title='survived')\n",
    "plt.title('The percentage of Survival')"
   ]
  },
  {
   "cell_type": "markdown",
   "id": "cb61b5ca",
   "metadata": {
    "papermill": {
     "duration": 0.048901,
     "end_time": "2024-01-29T11:01:46.908130",
     "exception": false,
     "start_time": "2024-01-29T11:01:46.859229",
     "status": "completed"
    },
    "tags": []
   },
   "source": [
    "Only 38.4% of the total data that survived from the Titanic diaster."
   ]
  },
  {
   "cell_type": "markdown",
   "id": "21050406",
   "metadata": {
    "papermill": {
     "duration": 0.047415,
     "end_time": "2024-01-29T11:01:47.002311",
     "exception": false,
     "start_time": "2024-01-29T11:01:46.954896",
     "status": "completed"
    },
    "tags": []
   },
   "source": [
    "## Name/title Column"
   ]
  },
  {
   "cell_type": "markdown",
   "id": "abe67711",
   "metadata": {
    "papermill": {
     "duration": 0.047081,
     "end_time": "2024-01-29T11:01:47.098378",
     "exception": false,
     "start_time": "2024-01-29T11:01:47.051297",
     "status": "completed"
    },
    "tags": []
   },
   "source": [
    "Start data cleaning with 'name' column"
   ]
  },
  {
   "cell_type": "code",
   "execution_count": 12,
   "id": "15571ea5",
   "metadata": {
    "papermill": {
     "duration": 0.060009,
     "end_time": "2024-01-29T11:01:47.206629",
     "exception": false,
     "start_time": "2024-01-29T11:01:47.146620",
     "status": "completed"
    },
    "tags": []
   },
   "outputs": [
    {
     "data": {
      "text/plain": [
       "0                                Braund, Mr. Owen Harris\n",
       "1      Cumings, Mrs. John Bradley (Florence Briggs Th...\n",
       "2                                 Heikkinen, Miss. Laina\n",
       "3           Futrelle, Mrs. Jacques Heath (Lily May Peel)\n",
       "4                               Allen, Mr. William Henry\n",
       "                             ...                        \n",
       "413                                   Spector, Mr. Woolf\n",
       "414                         Oliva y Ocana, Dona. Fermina\n",
       "415                         Saether, Mr. Simon Sivertsen\n",
       "416                                  Ware, Mr. Frederick\n",
       "417                             Peter, Master. Michael J\n",
       "Name: name, Length: 1309, dtype: object"
      ]
     },
     "execution_count": 12,
     "metadata": {},
     "output_type": "execute_result"
    }
   ],
   "source": [
    "df['name']"
   ]
  },
  {
   "cell_type": "code",
   "execution_count": 13,
   "id": "15b943d0",
   "metadata": {
    "papermill": {
     "duration": 0.058537,
     "end_time": "2024-01-29T11:01:47.310856",
     "exception": false,
     "start_time": "2024-01-29T11:01:47.252319",
     "status": "completed"
    },
    "tags": []
   },
   "outputs": [],
   "source": [
    "df['title'] = df['name'].apply(lambda x: x.split(',')[1].split('.')[0].strip())"
   ]
  },
  {
   "cell_type": "code",
   "execution_count": 14,
   "id": "38ee91cc",
   "metadata": {
    "papermill": {
     "duration": 0.060722,
     "end_time": "2024-01-29T11:01:47.416770",
     "exception": false,
     "start_time": "2024-01-29T11:01:47.356048",
     "status": "completed"
    },
    "tags": []
   },
   "outputs": [
    {
     "data": {
      "text/plain": [
       "Mr              757\n",
       "Miss            260\n",
       "Mrs             197\n",
       "Master           61\n",
       "Rev               8\n",
       "Dr                8\n",
       "Col               4\n",
       "Mlle              2\n",
       "Major             2\n",
       "Ms                2\n",
       "Lady              1\n",
       "Sir               1\n",
       "Mme               1\n",
       "Don               1\n",
       "Capt              1\n",
       "the Countess      1\n",
       "Jonkheer          1\n",
       "Dona              1\n",
       "Name: title, dtype: int64"
      ]
     },
     "execution_count": 14,
     "metadata": {},
     "output_type": "execute_result"
    }
   ],
   "source": [
    "df['title'].value_counts()"
   ]
  },
  {
   "cell_type": "markdown",
   "id": "758288bb",
   "metadata": {
    "papermill": {
     "duration": 0.04548,
     "end_time": "2024-01-29T11:01:47.509035",
     "exception": false,
     "start_time": "2024-01-29T11:01:47.463555",
     "status": "completed"
    },
    "tags": []
   },
   "source": [
    "There are some 'title' that have a small number of values, so I will group them together."
   ]
  },
  {
   "cell_type": "code",
   "execution_count": 15,
   "id": "598cf2a3",
   "metadata": {
    "papermill": {
     "duration": 0.09238,
     "end_time": "2024-01-29T11:01:47.649616",
     "exception": false,
     "start_time": "2024-01-29T11:01:47.557236",
     "status": "completed"
    },
    "tags": []
   },
   "outputs": [
    {
     "data": {
      "text/html": [
       "<div>\n",
       "<style scoped>\n",
       "    .dataframe tbody tr th:only-of-type {\n",
       "        vertical-align: middle;\n",
       "    }\n",
       "\n",
       "    .dataframe tbody tr th {\n",
       "        vertical-align: top;\n",
       "    }\n",
       "\n",
       "    .dataframe thead th {\n",
       "        text-align: right;\n",
       "    }\n",
       "</style>\n",
       "<table border=\"1\" class=\"dataframe\">\n",
       "  <thead>\n",
       "    <tr style=\"text-align: right;\">\n",
       "      <th>title</th>\n",
       "      <th>Capt</th>\n",
       "      <th>Col</th>\n",
       "      <th>Don</th>\n",
       "      <th>Dr</th>\n",
       "      <th>Jonkheer</th>\n",
       "      <th>Lady</th>\n",
       "      <th>Major</th>\n",
       "      <th>Master</th>\n",
       "      <th>Miss</th>\n",
       "      <th>Mlle</th>\n",
       "      <th>Mme</th>\n",
       "      <th>Mr</th>\n",
       "      <th>Mrs</th>\n",
       "      <th>Ms</th>\n",
       "      <th>Rev</th>\n",
       "      <th>Sir</th>\n",
       "      <th>the Countess</th>\n",
       "    </tr>\n",
       "    <tr>\n",
       "      <th>survived</th>\n",
       "      <th></th>\n",
       "      <th></th>\n",
       "      <th></th>\n",
       "      <th></th>\n",
       "      <th></th>\n",
       "      <th></th>\n",
       "      <th></th>\n",
       "      <th></th>\n",
       "      <th></th>\n",
       "      <th></th>\n",
       "      <th></th>\n",
       "      <th></th>\n",
       "      <th></th>\n",
       "      <th></th>\n",
       "      <th></th>\n",
       "      <th></th>\n",
       "      <th></th>\n",
       "    </tr>\n",
       "  </thead>\n",
       "  <tbody>\n",
       "    <tr>\n",
       "      <th>0.0</th>\n",
       "      <td>1</td>\n",
       "      <td>1</td>\n",
       "      <td>1</td>\n",
       "      <td>4</td>\n",
       "      <td>1</td>\n",
       "      <td>0</td>\n",
       "      <td>1</td>\n",
       "      <td>17</td>\n",
       "      <td>55</td>\n",
       "      <td>0</td>\n",
       "      <td>0</td>\n",
       "      <td>436</td>\n",
       "      <td>26</td>\n",
       "      <td>0</td>\n",
       "      <td>6</td>\n",
       "      <td>0</td>\n",
       "      <td>0</td>\n",
       "    </tr>\n",
       "    <tr>\n",
       "      <th>1.0</th>\n",
       "      <td>0</td>\n",
       "      <td>1</td>\n",
       "      <td>0</td>\n",
       "      <td>3</td>\n",
       "      <td>0</td>\n",
       "      <td>1</td>\n",
       "      <td>1</td>\n",
       "      <td>23</td>\n",
       "      <td>127</td>\n",
       "      <td>2</td>\n",
       "      <td>1</td>\n",
       "      <td>81</td>\n",
       "      <td>99</td>\n",
       "      <td>1</td>\n",
       "      <td>0</td>\n",
       "      <td>1</td>\n",
       "      <td>1</td>\n",
       "    </tr>\n",
       "  </tbody>\n",
       "</table>\n",
       "</div>"
      ],
      "text/plain": [
       "title     Capt  Col  Don  Dr  Jonkheer  Lady  Major  Master  Miss  Mlle  Mme  \\\n",
       "survived                                                                       \n",
       "0.0          1    1    1   4         1     0      1      17    55     0    0   \n",
       "1.0          0    1    0   3         0     1      1      23   127     2    1   \n",
       "\n",
       "title      Mr  Mrs  Ms  Rev  Sir  the Countess  \n",
       "survived                                        \n",
       "0.0       436   26   0    6    0             0  \n",
       "1.0        81   99   1    0    1             1  "
      ]
     },
     "execution_count": 15,
     "metadata": {},
     "output_type": "execute_result"
    }
   ],
   "source": [
    "pd.crosstab(df['survived'],df['title'])"
   ]
  },
  {
   "cell_type": "code",
   "execution_count": 16,
   "id": "f35a4d80",
   "metadata": {
    "papermill": {
     "duration": 0.065196,
     "end_time": "2024-01-29T11:01:47.761393",
     "exception": false,
     "start_time": "2024-01-29T11:01:47.696197",
     "status": "completed"
    },
    "tags": []
   },
   "outputs": [],
   "source": [
    "df['title'] = df['title'].replace(['Miss','Ms', 'Mlle'], 'Miss')\n",
    "df['title'] = df['title'].replace(['Mrs', 'Mme'], 'Mrs')\n",
    "df['title'] = df['title'].replace(['Capt','Col', 'Major','Dr', 'Rev'], 'Officer')\n",
    "df['title'] = df['title'].replace(['Sir','Lady','the Countess','Jonkheer','Dona','Don'], 'Royalty')"
   ]
  },
  {
   "cell_type": "code",
   "execution_count": 17,
   "id": "8418f36e",
   "metadata": {
    "papermill": {
     "duration": 0.063327,
     "end_time": "2024-01-29T11:01:47.870440",
     "exception": false,
     "start_time": "2024-01-29T11:01:47.807113",
     "status": "completed"
    },
    "tags": []
   },
   "outputs": [
    {
     "data": {
      "text/plain": [
       "Mr         757\n",
       "Miss       264\n",
       "Mrs        198\n",
       "Master      61\n",
       "Officer     23\n",
       "Royalty      6\n",
       "Name: title, dtype: int64"
      ]
     },
     "execution_count": 17,
     "metadata": {},
     "output_type": "execute_result"
    }
   ],
   "source": [
    "df['title'].value_counts()"
   ]
  },
  {
   "cell_type": "code",
   "execution_count": 18,
   "id": "4488977a",
   "metadata": {
    "papermill": {
     "duration": 0.066599,
     "end_time": "2024-01-29T11:01:47.984105",
     "exception": false,
     "start_time": "2024-01-29T11:01:47.917506",
     "status": "completed"
    },
    "tags": []
   },
   "outputs": [
    {
     "data": {
      "text/plain": [
       "title    survived  title  \n",
       "Master   0.0       Master      17\n",
       "         1.0       Master      23\n",
       "Miss     0.0       Miss        55\n",
       "         1.0       Miss       130\n",
       "Mr       0.0       Mr         436\n",
       "         1.0       Mr          81\n",
       "Mrs      0.0       Mrs         26\n",
       "         1.0       Mrs        100\n",
       "Officer  0.0       Officer     13\n",
       "         1.0       Officer      5\n",
       "Royalty  0.0       Royalty      2\n",
       "         1.0       Royalty      3\n",
       "Name: title, dtype: int64"
      ]
     },
     "execution_count": 18,
     "metadata": {},
     "output_type": "execute_result"
    }
   ],
   "source": [
    "df.groupby(['title','survived'])['title'].value_counts()"
   ]
  },
  {
   "cell_type": "code",
   "execution_count": 19,
   "id": "09e99a89",
   "metadata": {
    "papermill": {
     "duration": 0.076112,
     "end_time": "2024-01-29T11:01:48.233563",
     "exception": false,
     "start_time": "2024-01-29T11:01:48.157451",
     "status": "completed"
    },
    "tags": []
   },
   "outputs": [
    {
     "data": {
      "text/html": [
       "<div>\n",
       "<style scoped>\n",
       "    .dataframe tbody tr th:only-of-type {\n",
       "        vertical-align: middle;\n",
       "    }\n",
       "\n",
       "    .dataframe tbody tr th {\n",
       "        vertical-align: top;\n",
       "    }\n",
       "\n",
       "    .dataframe thead th {\n",
       "        text-align: right;\n",
       "    }\n",
       "</style>\n",
       "<table border=\"1\" class=\"dataframe\">\n",
       "  <thead>\n",
       "    <tr style=\"text-align: right;\">\n",
       "      <th>title</th>\n",
       "      <th>Master</th>\n",
       "      <th>Miss</th>\n",
       "      <th>Mr</th>\n",
       "      <th>Mrs</th>\n",
       "      <th>Officer</th>\n",
       "      <th>Royalty</th>\n",
       "    </tr>\n",
       "    <tr>\n",
       "      <th>survived</th>\n",
       "      <th></th>\n",
       "      <th></th>\n",
       "      <th></th>\n",
       "      <th></th>\n",
       "      <th></th>\n",
       "      <th></th>\n",
       "    </tr>\n",
       "  </thead>\n",
       "  <tbody>\n",
       "    <tr>\n",
       "      <th>0.0</th>\n",
       "      <td>17</td>\n",
       "      <td>55</td>\n",
       "      <td>436</td>\n",
       "      <td>26</td>\n",
       "      <td>13</td>\n",
       "      <td>2</td>\n",
       "    </tr>\n",
       "    <tr>\n",
       "      <th>1.0</th>\n",
       "      <td>23</td>\n",
       "      <td>130</td>\n",
       "      <td>81</td>\n",
       "      <td>100</td>\n",
       "      <td>5</td>\n",
       "      <td>3</td>\n",
       "    </tr>\n",
       "  </tbody>\n",
       "</table>\n",
       "</div>"
      ],
      "text/plain": [
       "title     Master  Miss   Mr  Mrs  Officer  Royalty\n",
       "survived                                          \n",
       "0.0           17    55  436   26       13        2\n",
       "1.0           23   130   81  100        5        3"
      ]
     },
     "execution_count": 19,
     "metadata": {},
     "output_type": "execute_result"
    }
   ],
   "source": [
    "pd.crosstab(df['survived'],df['title'])"
   ]
  },
  {
   "cell_type": "code",
   "execution_count": 20,
   "id": "8153de62",
   "metadata": {
    "papermill": {
     "duration": 0.587921,
     "end_time": "2024-01-29T11:01:48.870532",
     "exception": false,
     "start_time": "2024-01-29T11:01:48.282611",
     "status": "completed"
    },
    "tags": []
   },
   "outputs": [
    {
     "data": {
      "text/plain": [
       "Text(0.5, 1.0, 'Distribution of survived by title')"
      ]
     },
     "execution_count": 20,
     "metadata": {},
     "output_type": "execute_result"
    },
    {
     "data": {
      "image/png": "[encoded data removed]",
      "text/plain": [
       "<Figure size 640x480 with 1 Axes>"
      ]
     },
     "metadata": {},
     "output_type": "display_data"
    }
   ],
   "source": [
    "sns.countplot(x=df['title'], hue='survived', data=df)\n",
    "\n",
    "plt.title('Distribution of survived by title')"
   ]
  },
  {
   "cell_type": "markdown",
   "id": "69f2479b",
   "metadata": {
    "papermill": {
     "duration": 0.046316,
     "end_time": "2024-01-29T11:01:48.964541",
     "exception": false,
     "start_time": "2024-01-29T11:01:48.918225",
     "status": "completed"
    },
    "tags": []
   },
   "source": [
    "Woman and children have a higher surviral rate than Man or Officer."
   ]
  },
  {
   "cell_type": "markdown",
   "id": "fdd001f2",
   "metadata": {
    "papermill": {
     "duration": 0.046545,
     "end_time": "2024-01-29T11:01:49.058745",
     "exception": false,
     "start_time": "2024-01-29T11:01:49.012200",
     "status": "completed"
    },
    "tags": []
   },
   "source": [
    "## sex"
   ]
  },
  {
   "cell_type": "code",
   "execution_count": 21,
   "id": "e92cbafe",
   "metadata": {
    "papermill": {
     "duration": 0.385137,
     "end_time": "2024-01-29T11:01:49.491836",
     "exception": false,
     "start_time": "2024-01-29T11:01:49.106699",
     "status": "completed"
    },
    "tags": []
   },
   "outputs": [
    {
     "data": {
      "text/plain": [
       "Text(0.5, 1.0, 'Distribution of survived by sex')"
      ]
     },
     "execution_count": 21,
     "metadata": {},
     "output_type": "execute_result"
    },
    {
     "data": {
      "image/png": "[encoded data removed]",
      "text/plain": [
       "<Figure size 640x480 with 1 Axes>"
      ]
     },
     "metadata": {},
     "output_type": "display_data"
    }
   ],
   "source": [
    "sns.countplot(x=df['sex'], hue='survived', data=df)\n",
    "\n",
    "plt.title('Distribution of survived by sex')"
   ]
  },
  {
   "cell_type": "markdown",
   "id": "9476fc5e",
   "metadata": {
    "papermill": {
     "duration": 0.049618,
     "end_time": "2024-01-29T11:01:49.594502",
     "exception": false,
     "start_time": "2024-01-29T11:01:49.544884",
     "status": "completed"
    },
    "tags": []
   },
   "source": [
    "Female have a higher survival rate than male."
   ]
  },
  {
   "cell_type": "markdown",
   "id": "c882bc65",
   "metadata": {
    "papermill": {
     "duration": 0.048907,
     "end_time": "2024-01-29T11:01:49.692800",
     "exception": false,
     "start_time": "2024-01-29T11:01:49.643893",
     "status": "completed"
    },
    "tags": []
   },
   "source": [
    "## embarked"
   ]
  },
  {
   "cell_type": "code",
   "execution_count": 22,
   "id": "9fa08a7e",
   "metadata": {
    "papermill": {
     "duration": 0.061793,
     "end_time": "2024-01-29T11:01:49.804872",
     "exception": false,
     "start_time": "2024-01-29T11:01:49.743079",
     "status": "completed"
    },
    "tags": []
   },
   "outputs": [
    {
     "data": {
      "text/plain": [
       "2"
      ]
     },
     "execution_count": 22,
     "metadata": {},
     "output_type": "execute_result"
    }
   ],
   "source": [
    "df['embarked'].isnull().sum()"
   ]
  },
  {
   "cell_type": "code",
   "execution_count": 23,
   "id": "865597fb",
   "metadata": {
    "papermill": {
     "duration": 0.075604,
     "end_time": "2024-01-29T11:01:49.928778",
     "exception": false,
     "start_time": "2024-01-29T11:01:49.853174",
     "status": "completed"
    },
    "tags": []
   },
   "outputs": [
    {
     "data": {
      "text/html": [
       "<div>\n",
       "<style scoped>\n",
       "    .dataframe tbody tr th:only-of-type {\n",
       "        vertical-align: middle;\n",
       "    }\n",
       "\n",
       "    .dataframe tbody tr th {\n",
       "        vertical-align: top;\n",
       "    }\n",
       "\n",
       "    .dataframe thead th {\n",
       "        text-align: right;\n",
       "    }\n",
       "</style>\n",
       "<table border=\"1\" class=\"dataframe\">\n",
       "  <thead>\n",
       "    <tr style=\"text-align: right;\">\n",
       "      <th></th>\n",
       "      <th>passengerid</th>\n",
       "      <th>survived</th>\n",
       "      <th>pclass</th>\n",
       "      <th>name</th>\n",
       "      <th>sex</th>\n",
       "      <th>age</th>\n",
       "      <th>sibsp</th>\n",
       "      <th>parch</th>\n",
       "      <th>ticket</th>\n",
       "      <th>fare</th>\n",
       "      <th>cabin</th>\n",
       "      <th>embarked</th>\n",
       "      <th>title</th>\n",
       "    </tr>\n",
       "  </thead>\n",
       "  <tbody>\n",
       "    <tr>\n",
       "      <th>61</th>\n",
       "      <td>62</td>\n",
       "      <td>1.0</td>\n",
       "      <td>1</td>\n",
       "      <td>Icard, Miss. Amelie</td>\n",
       "      <td>female</td>\n",
       "      <td>38.0</td>\n",
       "      <td>0</td>\n",
       "      <td>0</td>\n",
       "      <td>113572</td>\n",
       "      <td>80.0</td>\n",
       "      <td>B28</td>\n",
       "      <td>NaN</td>\n",
       "      <td>Miss</td>\n",
       "    </tr>\n",
       "    <tr>\n",
       "      <th>829</th>\n",
       "      <td>830</td>\n",
       "      <td>1.0</td>\n",
       "      <td>1</td>\n",
       "      <td>Stone, Mrs. George Nelson (Martha Evelyn)</td>\n",
       "      <td>female</td>\n",
       "      <td>62.0</td>\n",
       "      <td>0</td>\n",
       "      <td>0</td>\n",
       "      <td>113572</td>\n",
       "      <td>80.0</td>\n",
       "      <td>B28</td>\n",
       "      <td>NaN</td>\n",
       "      <td>Mrs</td>\n",
       "    </tr>\n",
       "  </tbody>\n",
       "</table>\n",
       "</div>"
      ],
      "text/plain": [
       "     passengerid  survived  pclass                                       name  \\\n",
       "61            62       1.0       1                        Icard, Miss. Amelie   \n",
       "829          830       1.0       1  Stone, Mrs. George Nelson (Martha Evelyn)   \n",
       "\n",
       "        sex   age  sibsp  parch  ticket  fare cabin embarked title  \n",
       "61   female  38.0      0      0  113572  80.0   B28      NaN  Miss  \n",
       "829  female  62.0      0      0  113572  80.0   B28      NaN   Mrs  "
      ]
     },
     "execution_count": 23,
     "metadata": {},
     "output_type": "execute_result"
    }
   ],
   "source": [
    "df[df['embarked'].isnull()]"
   ]
  },
  {
   "cell_type": "code",
   "execution_count": 24,
   "id": "13baf442",
   "metadata": {
    "papermill": {
     "duration": 0.061871,
     "end_time": "2024-01-29T11:01:50.039401",
     "exception": false,
     "start_time": "2024-01-29T11:01:49.977530",
     "status": "completed"
    },
    "tags": []
   },
   "outputs": [],
   "source": [
    "df['embarked'].fillna(df['embarked'].mode()[0], inplace = True)"
   ]
  },
  {
   "cell_type": "code",
   "execution_count": 25,
   "id": "0345663f",
   "metadata": {
    "papermill": {
     "duration": 0.061657,
     "end_time": "2024-01-29T11:01:50.150376",
     "exception": false,
     "start_time": "2024-01-29T11:01:50.088719",
     "status": "completed"
    },
    "tags": []
   },
   "outputs": [
    {
     "data": {
      "text/plain": [
       "0"
      ]
     },
     "execution_count": 25,
     "metadata": {},
     "output_type": "execute_result"
    }
   ],
   "source": [
    "df['embarked'].isnull().sum()"
   ]
  },
  {
   "cell_type": "code",
   "execution_count": 26,
   "id": "629e0e60",
   "metadata": {
    "papermill": {
     "duration": 0.069525,
     "end_time": "2024-01-29T11:01:50.271142",
     "exception": false,
     "start_time": "2024-01-29T11:01:50.201617",
     "status": "completed"
    },
    "tags": []
   },
   "outputs": [
    {
     "data": {
      "text/plain": [
       "embarked  survived  survived\n",
       "C         0.0       0.0          75\n",
       "          1.0       1.0          93\n",
       "Q         0.0       0.0          47\n",
       "          1.0       1.0          30\n",
       "S         0.0       0.0         427\n",
       "          1.0       1.0         219\n",
       "Name: survived, dtype: int64"
      ]
     },
     "execution_count": 26,
     "metadata": {},
     "output_type": "execute_result"
    }
   ],
   "source": [
    "df.groupby(['embarked','survived'])['survived'].value_counts()"
   ]
  },
  {
   "cell_type": "code",
   "execution_count": 27,
   "id": "40393fef",
   "metadata": {
    "papermill": {
     "duration": 0.075762,
     "end_time": "2024-01-29T11:01:50.395744",
     "exception": false,
     "start_time": "2024-01-29T11:01:50.319982",
     "status": "completed"
    },
    "tags": []
   },
   "outputs": [
    {
     "data": {
      "text/html": [
       "<div>\n",
       "<style scoped>\n",
       "    .dataframe tbody tr th:only-of-type {\n",
       "        vertical-align: middle;\n",
       "    }\n",
       "\n",
       "    .dataframe tbody tr th {\n",
       "        vertical-align: top;\n",
       "    }\n",
       "\n",
       "    .dataframe thead th {\n",
       "        text-align: right;\n",
       "    }\n",
       "</style>\n",
       "<table border=\"1\" class=\"dataframe\">\n",
       "  <thead>\n",
       "    <tr style=\"text-align: right;\">\n",
       "      <th>embarked</th>\n",
       "      <th>C</th>\n",
       "      <th>Q</th>\n",
       "      <th>S</th>\n",
       "    </tr>\n",
       "    <tr>\n",
       "      <th>survived</th>\n",
       "      <th></th>\n",
       "      <th></th>\n",
       "      <th></th>\n",
       "    </tr>\n",
       "  </thead>\n",
       "  <tbody>\n",
       "    <tr>\n",
       "      <th>0.0</th>\n",
       "      <td>75</td>\n",
       "      <td>47</td>\n",
       "      <td>427</td>\n",
       "    </tr>\n",
       "    <tr>\n",
       "      <th>1.0</th>\n",
       "      <td>93</td>\n",
       "      <td>30</td>\n",
       "      <td>219</td>\n",
       "    </tr>\n",
       "  </tbody>\n",
       "</table>\n",
       "</div>"
      ],
      "text/plain": [
       "embarked   C   Q    S\n",
       "survived             \n",
       "0.0       75  47  427\n",
       "1.0       93  30  219"
      ]
     },
     "execution_count": 27,
     "metadata": {},
     "output_type": "execute_result"
    }
   ],
   "source": [
    "pd.crosstab(df['survived'],df['embarked'])"
   ]
  },
  {
   "cell_type": "code",
   "execution_count": 28,
   "id": "5be3eb0f",
   "metadata": {
    "papermill": {
     "duration": 0.447881,
     "end_time": "2024-01-29T11:01:50.893387",
     "exception": false,
     "start_time": "2024-01-29T11:01:50.445506",
     "status": "completed"
    },
    "tags": []
   },
   "outputs": [
    {
     "data": {
      "text/plain": [
       "Text(0.5, 1.0, 'Distribution of survived by embarked')"
      ]
     },
     "execution_count": 28,
     "metadata": {},
     "output_type": "execute_result"
    },
    {
     "data": {
      "image/png": "[encoded data removed]",
      "text/plain": [
       "<Figure size 640x480 with 1 Axes>"
      ]
     },
     "metadata": {},
     "output_type": "display_data"
    }
   ],
   "source": [
    "sns.countplot(x=df['embarked'], hue='survived', data=df)\n",
    "\n",
    "plt.title('Distribution of survived by embarked')"
   ]
  },
  {
   "cell_type": "markdown",
   "id": "75cc8a32",
   "metadata": {
    "papermill": {
     "duration": 0.057155,
     "end_time": "2024-01-29T11:01:51.001498",
     "exception": false,
     "start_time": "2024-01-29T11:01:50.944343",
     "status": "completed"
    },
    "tags": []
   },
   "source": [
    "embarked S have a higher chance to Died."
   ]
  },
  {
   "cell_type": "markdown",
   "id": "d1100f83",
   "metadata": {
    "papermill": {
     "duration": 0.053944,
     "end_time": "2024-01-29T11:01:51.109755",
     "exception": false,
     "start_time": "2024-01-29T11:01:51.055811",
     "status": "completed"
    },
    "tags": []
   },
   "source": [
    "## cabin"
   ]
  },
  {
   "cell_type": "code",
   "execution_count": 29,
   "id": "e7c0ab00",
   "metadata": {
    "papermill": {
     "duration": 0.064256,
     "end_time": "2024-01-29T11:01:51.227682",
     "exception": false,
     "start_time": "2024-01-29T11:01:51.163426",
     "status": "completed"
    },
    "tags": []
   },
   "outputs": [
    {
     "data": {
      "text/plain": [
       "1014"
      ]
     },
     "execution_count": 29,
     "metadata": {},
     "output_type": "execute_result"
    }
   ],
   "source": [
    "df['cabin'].isnull().sum()"
   ]
  },
  {
   "cell_type": "code",
   "execution_count": 30,
   "id": "8577544a",
   "metadata": {
    "papermill": {
     "duration": 0.064491,
     "end_time": "2024-01-29T11:01:51.344430",
     "exception": false,
     "start_time": "2024-01-29T11:01:51.279939",
     "status": "completed"
    },
    "tags": []
   },
   "outputs": [
    {
     "data": {
      "text/plain": [
       "77.46"
      ]
     },
     "execution_count": 30,
     "metadata": {},
     "output_type": "execute_result"
    }
   ],
   "source": [
    "(df['cabin'].isnull().sum() / len(df) *100).round(2)"
   ]
  },
  {
   "cell_type": "markdown",
   "id": "34c7cfdc",
   "metadata": {
    "papermill": {
     "duration": 0.052316,
     "end_time": "2024-01-29T11:01:51.446548",
     "exception": false,
     "start_time": "2024-01-29T11:01:51.394232",
     "status": "completed"
    },
    "tags": []
   },
   "source": [
    "The missing values of 'cabin' column were 77.46% of the data, that will effect the accuracy of the prediction, \n",
    "\n",
    "so we will not use the 'cabin' column."
   ]
  },
  {
   "cell_type": "code",
   "execution_count": 31,
   "id": "ab6b466d",
   "metadata": {
    "papermill": {
     "duration": 0.065772,
     "end_time": "2024-01-29T11:01:51.563196",
     "exception": false,
     "start_time": "2024-01-29T11:01:51.497424",
     "status": "completed"
    },
    "tags": []
   },
   "outputs": [
    {
     "data": {
      "text/plain": [
       "array([nan, 'C85', 'C123', 'E46', 'G6', 'C103', 'D56', 'A6',\n",
       "       'C23 C25 C27', 'B78', 'D33', 'B30', 'C52', 'B28', 'C83', 'F33',\n",
       "       'F G73', 'E31', 'A5', 'D10 D12', 'D26', 'C110', 'B58 B60', 'E101',\n",
       "       'F E69', 'D47', 'B86', 'F2', 'C2', 'E33', 'B19', 'A7', 'C49', 'F4',\n",
       "       'A32', 'B4', 'B80', 'A31', 'D36', 'D15', 'C93', 'C78', 'D35',\n",
       "       'C87', 'B77', 'E67', 'B94', 'C125', 'C99', 'C118', 'D7', 'A19',\n",
       "       'B49', 'D', 'C22 C26', 'C106', 'C65', 'E36', 'C54',\n",
       "       'B57 B59 B63 B66', 'C7', 'E34', 'C32', 'B18', 'C124', 'C91', 'E40',\n",
       "       'T', 'C128', 'D37', 'B35', 'E50', 'C82', 'B96 B98', 'E10', 'E44',\n",
       "       'A34', 'C104', 'C111', 'C92', 'E38', 'D21', 'E12', 'E63', 'A14',\n",
       "       'B37', 'C30', 'D20', 'B79', 'E25', 'D46', 'B73', 'C95', 'B38',\n",
       "       'B39', 'B22', 'C86', 'C70', 'A16', 'C101', 'C68', 'A10', 'E68',\n",
       "       'B41', 'A20', 'D19', 'D50', 'D9', 'A23', 'B50', 'A26', 'D48',\n",
       "       'E58', 'C126', 'B71', 'B51 B53 B55', 'D49', 'B5', 'B20', 'F G63',\n",
       "       'C62 C64', 'E24', 'C90', 'C45', 'E8', 'B101', 'D45', 'C46', 'D30',\n",
       "       'E121', 'D11', 'E77', 'F38', 'B3', 'D6', 'B82 B84', 'D17', 'A36',\n",
       "       'B102', 'B69', 'E49', 'C47', 'D28', 'E17', 'A24', 'C50', 'B42',\n",
       "       'C148', 'B45', 'B36', 'A21', 'D34', 'A9', 'C31', 'B61', 'C53',\n",
       "       'D43', 'C130', 'C132', 'C55 C57', 'C116', 'F', 'A29', 'C6', 'C28',\n",
       "       'C51', 'C97', 'D22', 'B10', 'E45', 'E52', 'A11', 'B11', 'C80',\n",
       "       'C89', 'F E46', 'B26', 'F E57', 'A18', 'E60', 'E39 E41',\n",
       "       'B52 B54 B56', 'C39', 'B24', 'D40', 'D38', 'C105'], dtype=object)"
      ]
     },
     "execution_count": 31,
     "metadata": {},
     "output_type": "execute_result"
    }
   ],
   "source": [
    "df['cabin'].unique()"
   ]
  },
  {
   "cell_type": "code",
   "execution_count": 32,
   "id": "b269e98d",
   "metadata": {
    "papermill": {
     "duration": 0.067087,
     "end_time": "2024-01-29T11:01:51.682193",
     "exception": false,
     "start_time": "2024-01-29T11:01:51.615106",
     "status": "completed"
    },
    "tags": []
   },
   "outputs": [
    {
     "data": {
      "text/plain": [
       "186"
      ]
     },
     "execution_count": 32,
     "metadata": {},
     "output_type": "execute_result"
    }
   ],
   "source": [
    "df['cabin'].nunique()"
   ]
  },
  {
   "cell_type": "code",
   "execution_count": 33,
   "id": "154bd0b5",
   "metadata": {
    "papermill": {
     "duration": 0.065729,
     "end_time": "2024-01-29T11:01:51.799010",
     "exception": false,
     "start_time": "2024-01-29T11:01:51.733281",
     "status": "completed"
    },
    "tags": []
   },
   "outputs": [],
   "source": [
    "df['cabin'] = df['cabin'].apply(lambda a: 'X' if pd.isnull(a) else a[0])"
   ]
  },
  {
   "cell_type": "markdown",
   "id": "5873261a",
   "metadata": {
    "papermill": {
     "duration": 0.051131,
     "end_time": "2024-01-29T11:01:51.900410",
     "exception": false,
     "start_time": "2024-01-29T11:01:51.849279",
     "status": "completed"
    },
    "tags": []
   },
   "source": [
    "Although, I will not use the 'cabin' column because of 77% missing values,\n",
    "\n",
    "but I am happy to learn how to write the code to fill the missing values \n",
    "\n",
    "and split the letter of cabin in one line of code by using lambda function."
   ]
  },
  {
   "cell_type": "code",
   "execution_count": 34,
   "id": "b563b999",
   "metadata": {
    "papermill": {
     "duration": 0.06415,
     "end_time": "2024-01-29T11:01:52.016778",
     "exception": false,
     "start_time": "2024-01-29T11:01:51.952628",
     "status": "completed"
    },
    "tags": []
   },
   "outputs": [
    {
     "data": {
      "text/plain": [
       "array(['X', 'C', 'E', 'G', 'D', 'A', 'B', 'F', 'T'], dtype=object)"
      ]
     },
     "execution_count": 34,
     "metadata": {},
     "output_type": "execute_result"
    }
   ],
   "source": [
    "df['cabin'].unique() "
   ]
  },
  {
   "cell_type": "code",
   "execution_count": 35,
   "id": "25d9c5d4",
   "metadata": {
    "papermill": {
     "duration": 0.071329,
     "end_time": "2024-01-29T11:01:52.139492",
     "exception": false,
     "start_time": "2024-01-29T11:01:52.068163",
     "status": "completed"
    },
    "tags": []
   },
   "outputs": [
    {
     "data": {
      "text/plain": [
       "cabin  survived  survived\n",
       "A      0.0       0.0           8\n",
       "       1.0       1.0           7\n",
       "B      0.0       0.0          12\n",
       "       1.0       1.0          35\n",
       "C      0.0       0.0          24\n",
       "       1.0       1.0          35\n",
       "D      0.0       0.0           8\n",
       "       1.0       1.0          25\n",
       "E      0.0       0.0           8\n",
       "       1.0       1.0          24\n",
       "F      0.0       0.0           5\n",
       "       1.0       1.0           8\n",
       "G      0.0       0.0           2\n",
       "       1.0       1.0           2\n",
       "T      0.0       0.0           1\n",
       "X      0.0       0.0         481\n",
       "       1.0       1.0         206\n",
       "Name: survived, dtype: int64"
      ]
     },
     "execution_count": 35,
     "metadata": {},
     "output_type": "execute_result"
    }
   ],
   "source": [
    "df.groupby(['cabin','survived'])['survived'].value_counts()"
   ]
  },
  {
   "cell_type": "code",
   "execution_count": 36,
   "id": "c2b9021d",
   "metadata": {
    "papermill": {
     "duration": 0.080792,
     "end_time": "2024-01-29T11:01:52.271923",
     "exception": false,
     "start_time": "2024-01-29T11:01:52.191131",
     "status": "completed"
    },
    "tags": []
   },
   "outputs": [
    {
     "data": {
      "text/html": [
       "<div>\n",
       "<style scoped>\n",
       "    .dataframe tbody tr th:only-of-type {\n",
       "        vertical-align: middle;\n",
       "    }\n",
       "\n",
       "    .dataframe tbody tr th {\n",
       "        vertical-align: top;\n",
       "    }\n",
       "\n",
       "    .dataframe thead th {\n",
       "        text-align: right;\n",
       "    }\n",
       "</style>\n",
       "<table border=\"1\" class=\"dataframe\">\n",
       "  <thead>\n",
       "    <tr style=\"text-align: right;\">\n",
       "      <th>cabin</th>\n",
       "      <th>A</th>\n",
       "      <th>B</th>\n",
       "      <th>C</th>\n",
       "      <th>D</th>\n",
       "      <th>E</th>\n",
       "      <th>F</th>\n",
       "      <th>G</th>\n",
       "      <th>T</th>\n",
       "      <th>X</th>\n",
       "    </tr>\n",
       "    <tr>\n",
       "      <th>survived</th>\n",
       "      <th></th>\n",
       "      <th></th>\n",
       "      <th></th>\n",
       "      <th></th>\n",
       "      <th></th>\n",
       "      <th></th>\n",
       "      <th></th>\n",
       "      <th></th>\n",
       "      <th></th>\n",
       "    </tr>\n",
       "  </thead>\n",
       "  <tbody>\n",
       "    <tr>\n",
       "      <th>0.0</th>\n",
       "      <td>8</td>\n",
       "      <td>12</td>\n",
       "      <td>24</td>\n",
       "      <td>8</td>\n",
       "      <td>8</td>\n",
       "      <td>5</td>\n",
       "      <td>2</td>\n",
       "      <td>1</td>\n",
       "      <td>481</td>\n",
       "    </tr>\n",
       "    <tr>\n",
       "      <th>1.0</th>\n",
       "      <td>7</td>\n",
       "      <td>35</td>\n",
       "      <td>35</td>\n",
       "      <td>25</td>\n",
       "      <td>24</td>\n",
       "      <td>8</td>\n",
       "      <td>2</td>\n",
       "      <td>0</td>\n",
       "      <td>206</td>\n",
       "    </tr>\n",
       "  </tbody>\n",
       "</table>\n",
       "</div>"
      ],
      "text/plain": [
       "cabin     A   B   C   D   E  F  G  T    X\n",
       "survived                                 \n",
       "0.0       8  12  24   8   8  5  2  1  481\n",
       "1.0       7  35  35  25  24  8  2  0  206"
      ]
     },
     "execution_count": 36,
     "metadata": {},
     "output_type": "execute_result"
    }
   ],
   "source": [
    "pd.crosstab(df['survived'],df['cabin'])"
   ]
  },
  {
   "cell_type": "code",
   "execution_count": 37,
   "id": "7e9c31e0",
   "metadata": {
    "papermill": {
     "duration": 0.504656,
     "end_time": "2024-01-29T11:01:52.828379",
     "exception": false,
     "start_time": "2024-01-29T11:01:52.323723",
     "status": "completed"
    },
    "tags": []
   },
   "outputs": [
    {
     "data": {
      "text/plain": [
       "Text(0.5, 1.0, 'Distribution of survived by cabin')"
      ]
     },
     "execution_count": 37,
     "metadata": {},
     "output_type": "execute_result"
    },
    {
     "data": {
      "image/png": "[encoded data removed]",
      "text/plain": [
       "<Figure size 640x480 with 1 Axes>"
      ]
     },
     "metadata": {},
     "output_type": "display_data"
    }
   ],
   "source": [
    "sns.countplot(x=df['cabin'], hue='survived', data=df)\n",
    "\n",
    "plt.title('Distribution of survived by cabin')"
   ]
  },
  {
   "cell_type": "markdown",
   "id": "e61d1396",
   "metadata": {
    "papermill": {
     "duration": 0.052778,
     "end_time": "2024-01-29T11:01:52.935452",
     "exception": false,
     "start_time": "2024-01-29T11:01:52.882674",
     "status": "completed"
    },
    "tags": []
   },
   "source": [
    "## age"
   ]
  },
  {
   "cell_type": "code",
   "execution_count": 38,
   "id": "99f4f33b",
   "metadata": {
    "papermill": {
     "duration": 0.068833,
     "end_time": "2024-01-29T11:01:53.058163",
     "exception": false,
     "start_time": "2024-01-29T11:01:52.989330",
     "status": "completed"
    },
    "tags": []
   },
   "outputs": [
    {
     "data": {
      "text/plain": [
       "263"
      ]
     },
     "execution_count": 38,
     "metadata": {},
     "output_type": "execute_result"
    }
   ],
   "source": [
    "df['age'].isnull().sum()"
   ]
  },
  {
   "cell_type": "code",
   "execution_count": 39,
   "id": "592b1901",
   "metadata": {
    "papermill": {
     "duration": 0.06824,
     "end_time": "2024-01-29T11:01:53.181379",
     "exception": false,
     "start_time": "2024-01-29T11:01:53.113139",
     "status": "completed"
    },
    "tags": []
   },
   "outputs": [
    {
     "data": {
      "text/plain": [
       "20.09"
      ]
     },
     "execution_count": 39,
     "metadata": {},
     "output_type": "execute_result"
    }
   ],
   "source": [
    "(df['age'].isnull().sum() / len(df) *100).round(2)"
   ]
  },
  {
   "cell_type": "code",
   "execution_count": 40,
   "id": "90f18401",
   "metadata": {
    "papermill": {
     "duration": 0.069731,
     "end_time": "2024-01-29T11:01:53.407910",
     "exception": false,
     "start_time": "2024-01-29T11:01:53.338179",
     "status": "completed"
    },
    "tags": []
   },
   "outputs": [
    {
     "data": {
      "text/plain": [
       "title\n",
       "Master      5.482642\n",
       "Miss       21.824366\n",
       "Mr         32.252151\n",
       "Mrs        36.918129\n",
       "Officer    46.272727\n",
       "Royalty    41.166667\n",
       "Name: age, dtype: float64"
      ]
     },
     "execution_count": 40,
     "metadata": {},
     "output_type": "execute_result"
    }
   ],
   "source": [
    "df.groupby(['title']).age.mean()"
   ]
  },
  {
   "cell_type": "code",
   "execution_count": 41,
   "id": "f6f51be4",
   "metadata": {
    "papermill": {
     "duration": 0.064779,
     "end_time": "2024-01-29T11:01:53.634227",
     "exception": false,
     "start_time": "2024-01-29T11:01:53.569448",
     "status": "completed"
    },
    "tags": []
   },
   "outputs": [],
   "source": [
    "df[\"age\"].fillna(df.groupby(['title'])['age'].transform(\"mean\"), inplace=True)"
   ]
  },
  {
   "cell_type": "code",
   "execution_count": 42,
   "id": "9202569c",
   "metadata": {
    "papermill": {
     "duration": 0.067591,
     "end_time": "2024-01-29T11:01:53.755157",
     "exception": false,
     "start_time": "2024-01-29T11:01:53.687566",
     "status": "completed"
    },
    "tags": []
   },
   "outputs": [
    {
     "data": {
      "text/plain": [
       "0"
      ]
     },
     "execution_count": 42,
     "metadata": {},
     "output_type": "execute_result"
    }
   ],
   "source": [
    "df['age'].isnull().sum()"
   ]
  },
  {
   "cell_type": "code",
   "execution_count": 43,
   "id": "fdad4f66",
   "metadata": {
    "papermill": {
     "duration": 0.073551,
     "end_time": "2024-01-29T11:01:53.986563",
     "exception": false,
     "start_time": "2024-01-29T11:01:53.913012",
     "status": "completed"
    },
    "tags": []
   },
   "outputs": [],
   "source": [
    "df['age_group'] = ''\n",
    "df['age_group'].loc[(df['age'] < 18)] = 'young'\n",
    "df['age_group'].loc[(df['age'] >= 18) & (df['age'] < 40)] = 'adult'\n",
    "df['age_group'].loc[(df['age'] >= 40) & (df['age'] < 56)] = 'middle age'\n",
    "df['age_group'].loc[(df['age'] >= 56)] = 'senior'"
   ]
  },
  {
   "cell_type": "code",
   "execution_count": 44,
   "id": "4cc01279",
   "metadata": {
    "papermill": {
     "duration": 0.082832,
     "end_time": "2024-01-29T11:01:54.122869",
     "exception": false,
     "start_time": "2024-01-29T11:01:54.040037",
     "status": "completed"
    },
    "tags": []
   },
   "outputs": [
    {
     "data": {
      "text/html": [
       "<div>\n",
       "<style scoped>\n",
       "    .dataframe tbody tr th:only-of-type {\n",
       "        vertical-align: middle;\n",
       "    }\n",
       "\n",
       "    .dataframe tbody tr th {\n",
       "        vertical-align: top;\n",
       "    }\n",
       "\n",
       "    .dataframe thead th {\n",
       "        text-align: right;\n",
       "    }\n",
       "</style>\n",
       "<table border=\"1\" class=\"dataframe\">\n",
       "  <thead>\n",
       "    <tr style=\"text-align: right;\">\n",
       "      <th>age_group</th>\n",
       "      <th>adult</th>\n",
       "      <th>middle age</th>\n",
       "      <th>senior</th>\n",
       "      <th>young</th>\n",
       "    </tr>\n",
       "    <tr>\n",
       "      <th>survived</th>\n",
       "      <th></th>\n",
       "      <th></th>\n",
       "      <th></th>\n",
       "      <th></th>\n",
       "    </tr>\n",
       "  </thead>\n",
       "  <tbody>\n",
       "    <tr>\n",
       "      <th>0.0</th>\n",
       "      <td>392</td>\n",
       "      <td>76</td>\n",
       "      <td>27</td>\n",
       "      <td>54</td>\n",
       "    </tr>\n",
       "    <tr>\n",
       "      <th>1.0</th>\n",
       "      <td>218</td>\n",
       "      <td>49</td>\n",
       "      <td>12</td>\n",
       "      <td>63</td>\n",
       "    </tr>\n",
       "  </tbody>\n",
       "</table>\n",
       "</div>"
      ],
      "text/plain": [
       "age_group  adult  middle age  senior  young\n",
       "survived                                   \n",
       "0.0          392          76      27     54\n",
       "1.0          218          49      12     63"
      ]
     },
     "execution_count": 44,
     "metadata": {},
     "output_type": "execute_result"
    }
   ],
   "source": [
    "pd.crosstab(df['survived'],df['age_group'])"
   ]
  },
  {
   "cell_type": "code",
   "execution_count": 45,
   "id": "5c0d5353",
   "metadata": {
    "papermill": {
     "duration": 0.462828,
     "end_time": "2024-01-29T11:01:54.639581",
     "exception": false,
     "start_time": "2024-01-29T11:01:54.176753",
     "status": "completed"
    },
    "tags": []
   },
   "outputs": [
    {
     "data": {
      "text/plain": [
       "Text(0.5, 1.0, 'Distribution of survived by age age_group')"
      ]
     },
     "execution_count": 45,
     "metadata": {},
     "output_type": "execute_result"
    },
    {
     "data": {
      "image/png": "[encoded data removed]",
      "text/plain": [
       "<Figure size 640x480 with 1 Axes>"
      ]
     },
     "metadata": {},
     "output_type": "display_data"
    }
   ],
   "source": [
    "order = ['Young','Adult','Middle age', 'Senior']\n",
    "\n",
    "sns.countplot(x=df['age_group'], hue='survived', data=df, order=order)\n",
    "\n",
    "plt.title('Distribution of survived by age age_group')"
   ]
  },
  {
   "cell_type": "code",
   "execution_count": 46,
   "id": "21f0503d",
   "metadata": {
    "papermill": {
     "duration": 0.072785,
     "end_time": "2024-01-29T11:01:54.872027",
     "exception": false,
     "start_time": "2024-01-29T11:01:54.799242",
     "status": "completed"
    },
    "tags": []
   },
   "outputs": [],
   "source": [
    "df['age_bin'] = pd.qcut(df['age'], 4)"
   ]
  },
  {
   "cell_type": "code",
   "execution_count": 47,
   "id": "eb0cf0ef",
   "metadata": {
    "papermill": {
     "duration": 0.097787,
     "end_time": "2024-01-29T11:01:55.022954",
     "exception": false,
     "start_time": "2024-01-29T11:01:54.925167",
     "status": "completed"
    },
    "tags": []
   },
   "outputs": [
    {
     "data": {
      "text/html": [
       "<div>\n",
       "<style scoped>\n",
       "    .dataframe tbody tr th:only-of-type {\n",
       "        vertical-align: middle;\n",
       "    }\n",
       "\n",
       "    .dataframe tbody tr th {\n",
       "        vertical-align: top;\n",
       "    }\n",
       "\n",
       "    .dataframe thead th {\n",
       "        text-align: right;\n",
       "    }\n",
       "</style>\n",
       "<table border=\"1\" class=\"dataframe\">\n",
       "  <thead>\n",
       "    <tr style=\"text-align: right;\">\n",
       "      <th>age_bin</th>\n",
       "      <th>(0.169, 21.824]</th>\n",
       "      <th>(21.824, 30.0]</th>\n",
       "      <th>(30.0, 36.0]</th>\n",
       "      <th>(36.0, 80.0]</th>\n",
       "    </tr>\n",
       "    <tr>\n",
       "      <th>survived</th>\n",
       "      <th></th>\n",
       "      <th></th>\n",
       "      <th></th>\n",
       "      <th></th>\n",
       "    </tr>\n",
       "  </thead>\n",
       "  <tbody>\n",
       "    <tr>\n",
       "      <th>0.0</th>\n",
       "      <td>133</td>\n",
       "      <td>126</td>\n",
       "      <td>163</td>\n",
       "      <td>127</td>\n",
       "    </tr>\n",
       "    <tr>\n",
       "      <th>1.0</th>\n",
       "      <td>111</td>\n",
       "      <td>79</td>\n",
       "      <td>66</td>\n",
       "      <td>86</td>\n",
       "    </tr>\n",
       "  </tbody>\n",
       "</table>\n",
       "</div>"
      ],
      "text/plain": [
       "age_bin   (0.169, 21.824]  (21.824, 30.0]  (30.0, 36.0]  (36.0, 80.0]\n",
       "survived                                                             \n",
       "0.0                   133             126           163           127\n",
       "1.0                   111              79            66            86"
      ]
     },
     "execution_count": 47,
     "metadata": {},
     "output_type": "execute_result"
    }
   ],
   "source": [
    "pd.crosstab(df['survived'],df['age_bin'])"
   ]
  },
  {
   "cell_type": "code",
   "execution_count": 48,
   "id": "c7d5b936",
   "metadata": {
    "papermill": {
     "duration": 0.074099,
     "end_time": "2024-01-29T11:01:55.153885",
     "exception": false,
     "start_time": "2024-01-29T11:01:55.079786",
     "status": "completed"
    },
    "tags": []
   },
   "outputs": [],
   "source": [
    "label = LabelEncoder()\n",
    "\n",
    "df['age_bin'] = label.fit_transform(df['age_bin'])"
   ]
  },
  {
   "cell_type": "code",
   "execution_count": 49,
   "id": "851b8ffe",
   "metadata": {
    "papermill": {
     "duration": 0.083819,
     "end_time": "2024-01-29T11:01:55.290498",
     "exception": false,
     "start_time": "2024-01-29T11:01:55.206679",
     "status": "completed"
    },
    "tags": []
   },
   "outputs": [
    {
     "data": {
      "text/html": [
       "<div>\n",
       "<style scoped>\n",
       "    .dataframe tbody tr th:only-of-type {\n",
       "        vertical-align: middle;\n",
       "    }\n",
       "\n",
       "    .dataframe tbody tr th {\n",
       "        vertical-align: top;\n",
       "    }\n",
       "\n",
       "    .dataframe thead th {\n",
       "        text-align: right;\n",
       "    }\n",
       "</style>\n",
       "<table border=\"1\" class=\"dataframe\">\n",
       "  <thead>\n",
       "    <tr style=\"text-align: right;\">\n",
       "      <th>age_bin</th>\n",
       "      <th>0</th>\n",
       "      <th>1</th>\n",
       "      <th>2</th>\n",
       "      <th>3</th>\n",
       "    </tr>\n",
       "    <tr>\n",
       "      <th>survived</th>\n",
       "      <th></th>\n",
       "      <th></th>\n",
       "      <th></th>\n",
       "      <th></th>\n",
       "    </tr>\n",
       "  </thead>\n",
       "  <tbody>\n",
       "    <tr>\n",
       "      <th>0.0</th>\n",
       "      <td>133</td>\n",
       "      <td>126</td>\n",
       "      <td>163</td>\n",
       "      <td>127</td>\n",
       "    </tr>\n",
       "    <tr>\n",
       "      <th>1.0</th>\n",
       "      <td>111</td>\n",
       "      <td>79</td>\n",
       "      <td>66</td>\n",
       "      <td>86</td>\n",
       "    </tr>\n",
       "  </tbody>\n",
       "</table>\n",
       "</div>"
      ],
      "text/plain": [
       "age_bin     0    1    2    3\n",
       "survived                    \n",
       "0.0       133  126  163  127\n",
       "1.0       111   79   66   86"
      ]
     },
     "execution_count": 49,
     "metadata": {},
     "output_type": "execute_result"
    }
   ],
   "source": [
    "pd.crosstab(df['survived'],df['age_bin'])"
   ]
  },
  {
   "cell_type": "code",
   "execution_count": 50,
   "id": "76faaf92",
   "metadata": {
    "papermill": {
     "duration": 0.499535,
     "end_time": "2024-01-29T11:01:55.844277",
     "exception": false,
     "start_time": "2024-01-29T11:01:55.344742",
     "status": "completed"
    },
    "tags": []
   },
   "outputs": [
    {
     "data": {
      "text/plain": [
       "Text(0.5, 1.0, 'Distribution of survived by age Bin')"
      ]
     },
     "execution_count": 50,
     "metadata": {},
     "output_type": "execute_result"
    },
    {
     "data": {
      "image/png": "[encoded data removed]",
      "text/plain": [
       "<Figure size 640x480 with 1 Axes>"
      ]
     },
     "metadata": {},
     "output_type": "display_data"
    }
   ],
   "source": [
    "sns.countplot(x=df['age_bin'], hue='survived', data=df)\n",
    "\n",
    "plt.title('Distribution of survived by age Bin')"
   ]
  },
  {
   "cell_type": "markdown",
   "id": "7c79bfc0",
   "metadata": {
    "papermill": {
     "duration": 0.054811,
     "end_time": "2024-01-29T11:01:55.953743",
     "exception": false,
     "start_time": "2024-01-29T11:01:55.898932",
     "status": "completed"
    },
    "tags": []
   },
   "source": [
    "## fare"
   ]
  },
  {
   "cell_type": "code",
   "execution_count": 51,
   "id": "53bfaf26",
   "metadata": {
    "papermill": {
     "duration": 0.066975,
     "end_time": "2024-01-29T11:01:56.076098",
     "exception": false,
     "start_time": "2024-01-29T11:01:56.009123",
     "status": "completed"
    },
    "tags": []
   },
   "outputs": [
    {
     "data": {
      "text/plain": [
       "1"
      ]
     },
     "execution_count": 51,
     "metadata": {},
     "output_type": "execute_result"
    }
   ],
   "source": [
    "df['fare'].isnull().sum()"
   ]
  },
  {
   "cell_type": "code",
   "execution_count": 52,
   "id": "91f5946c",
   "metadata": {
    "papermill": {
     "duration": 0.07948,
     "end_time": "2024-01-29T11:01:56.209939",
     "exception": false,
     "start_time": "2024-01-29T11:01:56.130459",
     "status": "completed"
    },
    "tags": []
   },
   "outputs": [
    {
     "data": {
      "text/html": [
       "<div>\n",
       "<style scoped>\n",
       "    .dataframe tbody tr th:only-of-type {\n",
       "        vertical-align: middle;\n",
       "    }\n",
       "\n",
       "    .dataframe tbody tr th {\n",
       "        vertical-align: top;\n",
       "    }\n",
       "\n",
       "    .dataframe thead th {\n",
       "        text-align: right;\n",
       "    }\n",
       "</style>\n",
       "<table border=\"1\" class=\"dataframe\">\n",
       "  <thead>\n",
       "    <tr style=\"text-align: right;\">\n",
       "      <th></th>\n",
       "      <th>passengerid</th>\n",
       "      <th>survived</th>\n",
       "      <th>pclass</th>\n",
       "      <th>name</th>\n",
       "      <th>sex</th>\n",
       "      <th>age</th>\n",
       "      <th>sibsp</th>\n",
       "      <th>parch</th>\n",
       "      <th>ticket</th>\n",
       "      <th>fare</th>\n",
       "      <th>cabin</th>\n",
       "      <th>embarked</th>\n",
       "      <th>title</th>\n",
       "      <th>age_group</th>\n",
       "      <th>age_bin</th>\n",
       "    </tr>\n",
       "  </thead>\n",
       "  <tbody>\n",
       "    <tr>\n",
       "      <th>152</th>\n",
       "      <td>1044</td>\n",
       "      <td>NaN</td>\n",
       "      <td>3</td>\n",
       "      <td>Storey, Mr. Thomas</td>\n",
       "      <td>male</td>\n",
       "      <td>60.5</td>\n",
       "      <td>0</td>\n",
       "      <td>0</td>\n",
       "      <td>3701</td>\n",
       "      <td>NaN</td>\n",
       "      <td>X</td>\n",
       "      <td>S</td>\n",
       "      <td>Mr</td>\n",
       "      <td>senior</td>\n",
       "      <td>3</td>\n",
       "    </tr>\n",
       "  </tbody>\n",
       "</table>\n",
       "</div>"
      ],
      "text/plain": [
       "     passengerid  survived  pclass                name   sex   age  sibsp  \\\n",
       "152         1044       NaN       3  Storey, Mr. Thomas  male  60.5      0   \n",
       "\n",
       "     parch ticket  fare cabin embarked title age_group  age_bin  \n",
       "152      0   3701   NaN     X        S    Mr    senior        3  "
      ]
     },
     "execution_count": 52,
     "metadata": {},
     "output_type": "execute_result"
    }
   ],
   "source": [
    "df[df['fare'].isnull()]"
   ]
  },
  {
   "cell_type": "code",
   "execution_count": 53,
   "id": "1edc094d",
   "metadata": {
    "papermill": {
     "duration": 0.066509,
     "end_time": "2024-01-29T11:01:56.330762",
     "exception": false,
     "start_time": "2024-01-29T11:01:56.264253",
     "status": "completed"
    },
    "tags": []
   },
   "outputs": [],
   "source": [
    "df['fare'].fillna(df['fare'].median(), inplace = True)"
   ]
  },
  {
   "cell_type": "code",
   "execution_count": 54,
   "id": "250d5128",
   "metadata": {
    "papermill": {
     "duration": 0.072785,
     "end_time": "2024-01-29T11:01:57.712378",
     "exception": false,
     "start_time": "2024-01-29T11:01:57.639593",
     "status": "completed"
    },
    "tags": []
   },
   "outputs": [],
   "source": [
    "df['fare_bin'] = pd.qcut(df['fare'], 5)"
   ]
  },
  {
   "cell_type": "code",
   "execution_count": 55,
   "id": "af5ea471",
   "metadata": {
    "papermill": {
     "duration": 0.0978,
     "end_time": "2024-01-29T11:01:57.865978",
     "exception": false,
     "start_time": "2024-01-29T11:01:57.768178",
     "status": "completed"
    },
    "tags": []
   },
   "outputs": [
    {
     "data": {
      "text/html": [
       "<div>\n",
       "<style scoped>\n",
       "    .dataframe tbody tr th:only-of-type {\n",
       "        vertical-align: middle;\n",
       "    }\n",
       "\n",
       "    .dataframe tbody tr th {\n",
       "        vertical-align: top;\n",
       "    }\n",
       "\n",
       "    .dataframe thead th {\n",
       "        text-align: right;\n",
       "    }\n",
       "</style>\n",
       "<table border=\"1\" class=\"dataframe\">\n",
       "  <thead>\n",
       "    <tr style=\"text-align: right;\">\n",
       "      <th>fare_bin</th>\n",
       "      <th>(-0.001, 7.854]</th>\n",
       "      <th>(7.854, 10.5]</th>\n",
       "      <th>(10.5, 21.558]</th>\n",
       "      <th>(21.558, 41.579]</th>\n",
       "      <th>(41.579, 512.329]</th>\n",
       "    </tr>\n",
       "    <tr>\n",
       "      <th>survived</th>\n",
       "      <th></th>\n",
       "      <th></th>\n",
       "      <th></th>\n",
       "      <th></th>\n",
       "      <th></th>\n",
       "    </tr>\n",
       "  </thead>\n",
       "  <tbody>\n",
       "    <tr>\n",
       "      <th>0.0</th>\n",
       "      <td>140</td>\n",
       "      <td>147</td>\n",
       "      <td>98</td>\n",
       "      <td>103</td>\n",
       "      <td>61</td>\n",
       "    </tr>\n",
       "    <tr>\n",
       "      <th>1.0</th>\n",
       "      <td>39</td>\n",
       "      <td>37</td>\n",
       "      <td>73</td>\n",
       "      <td>82</td>\n",
       "      <td>111</td>\n",
       "    </tr>\n",
       "  </tbody>\n",
       "</table>\n",
       "</div>"
      ],
      "text/plain": [
       "fare_bin  (-0.001, 7.854]  (7.854, 10.5]  (10.5, 21.558]  (21.558, 41.579]  \\\n",
       "survived                                                                     \n",
       "0.0                   140            147              98               103   \n",
       "1.0                    39             37              73                82   \n",
       "\n",
       "fare_bin  (41.579, 512.329]  \n",
       "survived                     \n",
       "0.0                      61  \n",
       "1.0                     111  "
      ]
     },
     "execution_count": 55,
     "metadata": {},
     "output_type": "execute_result"
    }
   ],
   "source": [
    "pd.crosstab(df['survived'],df['fare_bin'])"
   ]
  },
  {
   "cell_type": "code",
   "execution_count": 56,
   "id": "bb024e3e",
   "metadata": {
    "papermill": {
     "duration": 0.077207,
     "end_time": "2024-01-29T11:01:57.999431",
     "exception": false,
     "start_time": "2024-01-29T11:01:57.922224",
     "status": "completed"
    },
    "tags": []
   },
   "outputs": [],
   "source": [
    "label = LabelEncoder()\n",
    "\n",
    "df['fare_bin'] = label.fit_transform(df['fare_bin'])"
   ]
  },
  {
   "cell_type": "code",
   "execution_count": 57,
   "id": "c616e66b",
   "metadata": {
    "papermill": {
     "duration": 0.08847,
     "end_time": "2024-01-29T11:01:58.143788",
     "exception": false,
     "start_time": "2024-01-29T11:01:58.055318",
     "status": "completed"
    },
    "tags": []
   },
   "outputs": [
    {
     "data": {
      "text/html": [
       "<div>\n",
       "<style scoped>\n",
       "    .dataframe tbody tr th:only-of-type {\n",
       "        vertical-align: middle;\n",
       "    }\n",
       "\n",
       "    .dataframe tbody tr th {\n",
       "        vertical-align: top;\n",
       "    }\n",
       "\n",
       "    .dataframe thead th {\n",
       "        text-align: right;\n",
       "    }\n",
       "</style>\n",
       "<table border=\"1\" class=\"dataframe\">\n",
       "  <thead>\n",
       "    <tr style=\"text-align: right;\">\n",
       "      <th>fare_bin</th>\n",
       "      <th>0</th>\n",
       "      <th>1</th>\n",
       "      <th>2</th>\n",
       "      <th>3</th>\n",
       "      <th>4</th>\n",
       "    </tr>\n",
       "    <tr>\n",
       "      <th>survived</th>\n",
       "      <th></th>\n",
       "      <th></th>\n",
       "      <th></th>\n",
       "      <th></th>\n",
       "      <th></th>\n",
       "    </tr>\n",
       "  </thead>\n",
       "  <tbody>\n",
       "    <tr>\n",
       "      <th>0.0</th>\n",
       "      <td>140</td>\n",
       "      <td>147</td>\n",
       "      <td>98</td>\n",
       "      <td>103</td>\n",
       "      <td>61</td>\n",
       "    </tr>\n",
       "    <tr>\n",
       "      <th>1.0</th>\n",
       "      <td>39</td>\n",
       "      <td>37</td>\n",
       "      <td>73</td>\n",
       "      <td>82</td>\n",
       "      <td>111</td>\n",
       "    </tr>\n",
       "  </tbody>\n",
       "</table>\n",
       "</div>"
      ],
      "text/plain": [
       "fare_bin    0    1   2    3    4\n",
       "survived                        \n",
       "0.0       140  147  98  103   61\n",
       "1.0        39   37  73   82  111"
      ]
     },
     "execution_count": 57,
     "metadata": {},
     "output_type": "execute_result"
    }
   ],
   "source": [
    "pd.crosstab(df['survived'],df['fare_bin'])"
   ]
  },
  {
   "cell_type": "code",
   "execution_count": 58,
   "id": "4746356f",
   "metadata": {
    "papermill": {
     "duration": 0.477906,
     "end_time": "2024-01-29T11:01:58.680858",
     "exception": false,
     "start_time": "2024-01-29T11:01:58.202952",
     "status": "completed"
    },
    "tags": []
   },
   "outputs": [
    {
     "data": {
      "text/plain": [
       "Text(0.5, 1.0, 'Distribution of survived by fare_bin')"
      ]
     },
     "execution_count": 58,
     "metadata": {},
     "output_type": "execute_result"
    },
    {
     "data": {
      "image/png": "[encoded data removed]",
      "text/plain": [
       "<Figure size 640x480 with 1 Axes>"
      ]
     },
     "metadata": {},
     "output_type": "display_data"
    }
   ],
   "source": [
    "sns.countplot(x=df['fare_bin'], hue='survived', data=df)\n",
    "\n",
    "plt.title('Distribution of survived by fare_bin')"
   ]
  },
  {
   "cell_type": "markdown",
   "id": "7bf232d7",
   "metadata": {
    "papermill": {
     "duration": 0.057073,
     "end_time": "2024-01-29T11:01:58.796486",
     "exception": false,
     "start_time": "2024-01-29T11:01:58.739413",
     "status": "completed"
    },
    "tags": []
   },
   "source": [
    "## ticket class (pclass)"
   ]
  },
  {
   "cell_type": "code",
   "execution_count": 59,
   "id": "2bba4d0a",
   "metadata": {
    "papermill": {
     "duration": 0.449613,
     "end_time": "2024-01-29T11:01:59.302944",
     "exception": false,
     "start_time": "2024-01-29T11:01:58.853331",
     "status": "completed"
    },
    "tags": []
   },
   "outputs": [
    {
     "data": {
      "text/plain": [
       "Text(0.5, 1.0, 'Distribution of survived by ticket class')"
      ]
     },
     "execution_count": 59,
     "metadata": {},
     "output_type": "execute_result"
    },
    {
     "data": {
      "image/png": "[encoded data removed]",
      "text/plain": [
       "<Figure size 640x480 with 1 Axes>"
      ]
     },
     "metadata": {},
     "output_type": "display_data"
    }
   ],
   "source": [
    "sns.countplot(x=df['pclass'], hue='survived', data=df)\n",
    "\n",
    "plt.title('Distribution of survived by ticket class')"
   ]
  },
  {
   "cell_type": "code",
   "execution_count": 60,
   "id": "1c1a2a43",
   "metadata": {
    "papermill": {
     "duration": 0.088623,
     "end_time": "2024-01-29T11:01:59.449676",
     "exception": false,
     "start_time": "2024-01-29T11:01:59.361053",
     "status": "completed"
    },
    "tags": []
   },
   "outputs": [
    {
     "data": {
      "text/html": [
       "<div>\n",
       "<style scoped>\n",
       "    .dataframe tbody tr th:only-of-type {\n",
       "        vertical-align: middle;\n",
       "    }\n",
       "\n",
       "    .dataframe tbody tr th {\n",
       "        vertical-align: top;\n",
       "    }\n",
       "\n",
       "    .dataframe thead th {\n",
       "        text-align: right;\n",
       "    }\n",
       "</style>\n",
       "<table border=\"1\" class=\"dataframe\">\n",
       "  <thead>\n",
       "    <tr style=\"text-align: right;\">\n",
       "      <th>title</th>\n",
       "      <th>Master</th>\n",
       "      <th>Miss</th>\n",
       "      <th>Mr</th>\n",
       "      <th>Mrs</th>\n",
       "      <th>Officer</th>\n",
       "      <th>Royalty</th>\n",
       "    </tr>\n",
       "    <tr>\n",
       "      <th>pclass</th>\n",
       "      <th></th>\n",
       "      <th></th>\n",
       "      <th></th>\n",
       "      <th></th>\n",
       "      <th></th>\n",
       "      <th></th>\n",
       "    </tr>\n",
       "  </thead>\n",
       "  <tbody>\n",
       "    <tr>\n",
       "      <th>1</th>\n",
       "      <td>5</td>\n",
       "      <td>62</td>\n",
       "      <td>159</td>\n",
       "      <td>78</td>\n",
       "      <td>13</td>\n",
       "      <td>6</td>\n",
       "    </tr>\n",
       "    <tr>\n",
       "      <th>2</th>\n",
       "      <td>11</td>\n",
       "      <td>51</td>\n",
       "      <td>150</td>\n",
       "      <td>55</td>\n",
       "      <td>10</td>\n",
       "      <td>0</td>\n",
       "    </tr>\n",
       "    <tr>\n",
       "      <th>3</th>\n",
       "      <td>45</td>\n",
       "      <td>151</td>\n",
       "      <td>448</td>\n",
       "      <td>65</td>\n",
       "      <td>0</td>\n",
       "      <td>0</td>\n",
       "    </tr>\n",
       "  </tbody>\n",
       "</table>\n",
       "</div>"
      ],
      "text/plain": [
       "title   Master  Miss   Mr  Mrs  Officer  Royalty\n",
       "pclass                                          \n",
       "1            5    62  159   78       13        6\n",
       "2           11    51  150   55       10        0\n",
       "3           45   151  448   65        0        0"
      ]
     },
     "execution_count": 60,
     "metadata": {},
     "output_type": "execute_result"
    }
   ],
   "source": [
    "pd.crosstab(df['pclass'], df['title'])"
   ]
  },
  {
   "cell_type": "code",
   "execution_count": 61,
   "id": "9093f108",
   "metadata": {
    "papermill": {
     "duration": 0.511017,
     "end_time": "2024-01-29T11:02:00.135628",
     "exception": false,
     "start_time": "2024-01-29T11:01:59.624611",
     "status": "completed"
    },
    "tags": []
   },
   "outputs": [
    {
     "data": {
      "text/plain": [
       "Text(0.5, 1.0, 'Distribution of pclass by title')"
      ]
     },
     "execution_count": 61,
     "metadata": {},
     "output_type": "execute_result"
    },
    {
     "data": {
      "image/png": "[encoded data removed]",
      "text/plain": [
       "<Figure size 640x480 with 1 Axes>"
      ]
     },
     "metadata": {},
     "output_type": "display_data"
    }
   ],
   "source": [
    "sns.countplot(x=df['pclass'], hue='title', data=df)\n",
    "\n",
    "plt.title('Distribution of pclass by title')"
   ]
  },
  {
   "cell_type": "code",
   "execution_count": 62,
   "id": "be0c984a",
   "metadata": {
    "papermill": {
     "duration": 0.083919,
     "end_time": "2024-01-29T11:02:00.282735",
     "exception": false,
     "start_time": "2024-01-29T11:02:00.198816",
     "status": "completed"
    },
    "tags": []
   },
   "outputs": [
    {
     "data": {
      "text/html": [
       "<div>\n",
       "<style scoped>\n",
       "    .dataframe tbody tr th:only-of-type {\n",
       "        vertical-align: middle;\n",
       "    }\n",
       "\n",
       "    .dataframe tbody tr th {\n",
       "        vertical-align: top;\n",
       "    }\n",
       "\n",
       "    .dataframe thead th {\n",
       "        text-align: right;\n",
       "    }\n",
       "</style>\n",
       "<table border=\"1\" class=\"dataframe\">\n",
       "  <thead>\n",
       "    <tr style=\"text-align: right;\">\n",
       "      <th>sex</th>\n",
       "      <th>female</th>\n",
       "      <th>male</th>\n",
       "    </tr>\n",
       "    <tr>\n",
       "      <th>pclass</th>\n",
       "      <th></th>\n",
       "      <th></th>\n",
       "    </tr>\n",
       "  </thead>\n",
       "  <tbody>\n",
       "    <tr>\n",
       "      <th>1</th>\n",
       "      <td>144</td>\n",
       "      <td>179</td>\n",
       "    </tr>\n",
       "    <tr>\n",
       "      <th>2</th>\n",
       "      <td>106</td>\n",
       "      <td>171</td>\n",
       "    </tr>\n",
       "    <tr>\n",
       "      <th>3</th>\n",
       "      <td>216</td>\n",
       "      <td>493</td>\n",
       "    </tr>\n",
       "  </tbody>\n",
       "</table>\n",
       "</div>"
      ],
      "text/plain": [
       "sex     female  male\n",
       "pclass              \n",
       "1          144   179\n",
       "2          106   171\n",
       "3          216   493"
      ]
     },
     "execution_count": 62,
     "metadata": {},
     "output_type": "execute_result"
    }
   ],
   "source": [
    "pd.crosstab(df['pclass'], df['sex'])"
   ]
  },
  {
   "cell_type": "code",
   "execution_count": 63,
   "id": "765848b7",
   "metadata": {
    "papermill": {
     "duration": 0.421081,
     "end_time": "2024-01-29T11:02:00.763900",
     "exception": false,
     "start_time": "2024-01-29T11:02:00.342819",
     "status": "completed"
    },
    "tags": []
   },
   "outputs": [
    {
     "data": {
      "text/plain": [
       "Text(0.5, 1.0, 'Distribution of pclass by sex')"
      ]
     },
     "execution_count": 63,
     "metadata": {},
     "output_type": "execute_result"
    },
    {
     "data": {
      "image/png": "[encoded data removed]",
      "text/plain": [
       "<Figure size 640x480 with 1 Axes>"
      ]
     },
     "metadata": {},
     "output_type": "display_data"
    }
   ],
   "source": [
    "sns.countplot(x=df['pclass'], hue='sex', data=df)\n",
    "\n",
    "plt.title('Distribution of pclass by sex')"
   ]
  },
  {
   "cell_type": "markdown",
   "id": "ba05932e",
   "metadata": {
    "papermill": {
     "duration": 0.057715,
     "end_time": "2024-01-29T11:02:00.880946",
     "exception": false,
     "start_time": "2024-01-29T11:02:00.823231",
     "status": "completed"
    },
    "tags": []
   },
   "source": [
    "## Parent/Childern (parch) and Siblings/Spouses (sibsp)"
   ]
  },
  {
   "cell_type": "code",
   "execution_count": 64,
   "id": "b3c56292",
   "metadata": {
    "papermill": {
     "duration": 0.091188,
     "end_time": "2024-01-29T11:02:02.344879",
     "exception": false,
     "start_time": "2024-01-29T11:02:02.253691",
     "status": "completed"
    },
    "tags": []
   },
   "outputs": [
    {
     "data": {
      "text/html": [
       "<div>\n",
       "<style scoped>\n",
       "    .dataframe tbody tr th:only-of-type {\n",
       "        vertical-align: middle;\n",
       "    }\n",
       "\n",
       "    .dataframe tbody tr th {\n",
       "        vertical-align: top;\n",
       "    }\n",
       "\n",
       "    .dataframe thead th {\n",
       "        text-align: right;\n",
       "    }\n",
       "</style>\n",
       "<table border=\"1\" class=\"dataframe\">\n",
       "  <thead>\n",
       "    <tr style=\"text-align: right;\">\n",
       "      <th></th>\n",
       "      <th>passengerid</th>\n",
       "      <th>survived</th>\n",
       "      <th>pclass</th>\n",
       "      <th>name</th>\n",
       "      <th>sex</th>\n",
       "      <th>age</th>\n",
       "      <th>sibsp</th>\n",
       "      <th>parch</th>\n",
       "      <th>ticket</th>\n",
       "      <th>fare</th>\n",
       "      <th>cabin</th>\n",
       "      <th>embarked</th>\n",
       "      <th>title</th>\n",
       "      <th>age_group</th>\n",
       "      <th>age_bin</th>\n",
       "      <th>fare_bin</th>\n",
       "      <th>family_size</th>\n",
       "    </tr>\n",
       "  </thead>\n",
       "  <tbody>\n",
       "    <tr>\n",
       "      <th>0</th>\n",
       "      <td>1</td>\n",
       "      <td>0.0</td>\n",
       "      <td>3</td>\n",
       "      <td>Braund, Mr. Owen Harris</td>\n",
       "      <td>male</td>\n",
       "      <td>22.0</td>\n",
       "      <td>1</td>\n",
       "      <td>0</td>\n",
       "      <td>A/5 21171</td>\n",
       "      <td>7.2500</td>\n",
       "      <td>X</td>\n",
       "      <td>S</td>\n",
       "      <td>Mr</td>\n",
       "      <td>adult</td>\n",
       "      <td>1</td>\n",
       "      <td>0</td>\n",
       "      <td>2</td>\n",
       "    </tr>\n",
       "    <tr>\n",
       "      <th>1</th>\n",
       "      <td>2</td>\n",
       "      <td>1.0</td>\n",
       "      <td>1</td>\n",
       "      <td>Cumings, Mrs. John Bradley (Florence Briggs Th...</td>\n",
       "      <td>female</td>\n",
       "      <td>38.0</td>\n",
       "      <td>1</td>\n",
       "      <td>0</td>\n",
       "      <td>PC 17599</td>\n",
       "      <td>71.2833</td>\n",
       "      <td>C</td>\n",
       "      <td>C</td>\n",
       "      <td>Mrs</td>\n",
       "      <td>adult</td>\n",
       "      <td>3</td>\n",
       "      <td>4</td>\n",
       "      <td>2</td>\n",
       "    </tr>\n",
       "    <tr>\n",
       "      <th>2</th>\n",
       "      <td>3</td>\n",
       "      <td>1.0</td>\n",
       "      <td>3</td>\n",
       "      <td>Heikkinen, Miss. Laina</td>\n",
       "      <td>female</td>\n",
       "      <td>26.0</td>\n",
       "      <td>0</td>\n",
       "      <td>0</td>\n",
       "      <td>STON/O2. 3101282</td>\n",
       "      <td>7.9250</td>\n",
       "      <td>X</td>\n",
       "      <td>S</td>\n",
       "      <td>Miss</td>\n",
       "      <td>adult</td>\n",
       "      <td>1</td>\n",
       "      <td>1</td>\n",
       "      <td>1</td>\n",
       "    </tr>\n",
       "    <tr>\n",
       "      <th>3</th>\n",
       "      <td>4</td>\n",
       "      <td>1.0</td>\n",
       "      <td>1</td>\n",
       "      <td>Futrelle, Mrs. Jacques Heath (Lily May Peel)</td>\n",
       "      <td>female</td>\n",
       "      <td>35.0</td>\n",
       "      <td>1</td>\n",
       "      <td>0</td>\n",
       "      <td>113803</td>\n",
       "      <td>53.1000</td>\n",
       "      <td>C</td>\n",
       "      <td>S</td>\n",
       "      <td>Mrs</td>\n",
       "      <td>adult</td>\n",
       "      <td>2</td>\n",
       "      <td>4</td>\n",
       "      <td>2</td>\n",
       "    </tr>\n",
       "    <tr>\n",
       "      <th>4</th>\n",
       "      <td>5</td>\n",
       "      <td>0.0</td>\n",
       "      <td>3</td>\n",
       "      <td>Allen, Mr. William Henry</td>\n",
       "      <td>male</td>\n",
       "      <td>35.0</td>\n",
       "      <td>0</td>\n",
       "      <td>0</td>\n",
       "      <td>373450</td>\n",
       "      <td>8.0500</td>\n",
       "      <td>X</td>\n",
       "      <td>S</td>\n",
       "      <td>Mr</td>\n",
       "      <td>adult</td>\n",
       "      <td>2</td>\n",
       "      <td>1</td>\n",
       "      <td>1</td>\n",
       "    </tr>\n",
       "  </tbody>\n",
       "</table>\n",
       "</div>"
      ],
      "text/plain": [
       "   passengerid  survived  pclass  \\\n",
       "0            1       0.0       3   \n",
       "1            2       1.0       1   \n",
       "2            3       1.0       3   \n",
       "3            4       1.0       1   \n",
       "4            5       0.0       3   \n",
       "\n",
       "                                                name     sex   age  sibsp  \\\n",
       "0                            Braund, Mr. Owen Harris    male  22.0      1   \n",
       "1  Cumings, Mrs. John Bradley (Florence Briggs Th...  female  38.0      1   \n",
       "2                             Heikkinen, Miss. Laina  female  26.0      0   \n",
       "3       Futrelle, Mrs. Jacques Heath (Lily May Peel)  female  35.0      1   \n",
       "4                           Allen, Mr. William Henry    male  35.0      0   \n",
       "\n",
       "   parch            ticket     fare cabin embarked title age_group  age_bin  \\\n",
       "0      0         A/5 21171   7.2500     X        S    Mr     adult        1   \n",
       "1      0          PC 17599  71.2833     C        C   Mrs     adult        3   \n",
       "2      0  STON/O2. 3101282   7.9250     X        S  Miss     adult        1   \n",
       "3      0            113803  53.1000     C        S   Mrs     adult        2   \n",
       "4      0            373450   8.0500     X        S    Mr     adult        2   \n",
       "\n",
       "   fare_bin  family_size  \n",
       "0         0            2  \n",
       "1         4            2  \n",
       "2         1            1  \n",
       "3         4            2  \n",
       "4         1            1  "
      ]
     },
     "execution_count": 64,
     "metadata": {},
     "output_type": "execute_result"
    }
   ],
   "source": [
    "df['family_size'] = df['parch'] + df['sibsp'] + 1\n",
    "\n",
    "df.head()"
   ]
  },
  {
   "cell_type": "code",
   "execution_count": 65,
   "id": "ceff66dd",
   "metadata": {
    "papermill": {
     "duration": 0.093507,
     "end_time": "2024-01-29T11:02:02.499695",
     "exception": false,
     "start_time": "2024-01-29T11:02:02.406188",
     "status": "completed"
    },
    "tags": []
   },
   "outputs": [
    {
     "data": {
      "text/html": [
       "<div>\n",
       "<style scoped>\n",
       "    .dataframe tbody tr th:only-of-type {\n",
       "        vertical-align: middle;\n",
       "    }\n",
       "\n",
       "    .dataframe tbody tr th {\n",
       "        vertical-align: top;\n",
       "    }\n",
       "\n",
       "    .dataframe thead th {\n",
       "        text-align: right;\n",
       "    }\n",
       "</style>\n",
       "<table border=\"1\" class=\"dataframe\">\n",
       "  <thead>\n",
       "    <tr style=\"text-align: right;\">\n",
       "      <th>family_size</th>\n",
       "      <th>1</th>\n",
       "      <th>2</th>\n",
       "      <th>3</th>\n",
       "      <th>4</th>\n",
       "      <th>5</th>\n",
       "      <th>6</th>\n",
       "      <th>7</th>\n",
       "      <th>8</th>\n",
       "      <th>11</th>\n",
       "    </tr>\n",
       "    <tr>\n",
       "      <th>survived</th>\n",
       "      <th></th>\n",
       "      <th></th>\n",
       "      <th></th>\n",
       "      <th></th>\n",
       "      <th></th>\n",
       "      <th></th>\n",
       "      <th></th>\n",
       "      <th></th>\n",
       "      <th></th>\n",
       "    </tr>\n",
       "  </thead>\n",
       "  <tbody>\n",
       "    <tr>\n",
       "      <th>0.0</th>\n",
       "      <td>374</td>\n",
       "      <td>72</td>\n",
       "      <td>43</td>\n",
       "      <td>8</td>\n",
       "      <td>12</td>\n",
       "      <td>19</td>\n",
       "      <td>8</td>\n",
       "      <td>6</td>\n",
       "      <td>7</td>\n",
       "    </tr>\n",
       "    <tr>\n",
       "      <th>1.0</th>\n",
       "      <td>163</td>\n",
       "      <td>89</td>\n",
       "      <td>59</td>\n",
       "      <td>21</td>\n",
       "      <td>3</td>\n",
       "      <td>3</td>\n",
       "      <td>4</td>\n",
       "      <td>0</td>\n",
       "      <td>0</td>\n",
       "    </tr>\n",
       "  </tbody>\n",
       "</table>\n",
       "</div>"
      ],
      "text/plain": [
       "family_size   1   2   3   4   5   6   7   8   11\n",
       "survived                                        \n",
       "0.0          374  72  43   8  12  19   8   6   7\n",
       "1.0          163  89  59  21   3   3   4   0   0"
      ]
     },
     "execution_count": 65,
     "metadata": {},
     "output_type": "execute_result"
    }
   ],
   "source": [
    "pd.crosstab(df['survived'],df['family_size'])"
   ]
  },
  {
   "cell_type": "code",
   "execution_count": 66,
   "id": "800175b1",
   "metadata": {
    "papermill": {
     "duration": 0.541767,
     "end_time": "2024-01-29T11:02:03.101296",
     "exception": false,
     "start_time": "2024-01-29T11:02:02.559529",
     "status": "completed"
    },
    "tags": []
   },
   "outputs": [
    {
     "data": {
      "text/plain": [
       "Text(0.5, 1.0, 'Distribution of survived by Family Size')"
      ]
     },
     "execution_count": 66,
     "metadata": {},
     "output_type": "execute_result"
    },
    {
     "data": {
      "image/png": "[encoded data removed]",
      "text/plain": [
       "<Figure size 640x480 with 1 Axes>"
      ]
     },
     "metadata": {},
     "output_type": "display_data"
    }
   ],
   "source": [
    "sns.countplot(x=df['family_size'], hue='survived', data=df)\n",
    "\n",
    "plt.title('Distribution of survived by Family Size')"
   ]
  },
  {
   "cell_type": "code",
   "execution_count": 67,
   "id": "b7261775",
   "metadata": {
    "papermill": {
     "duration": 0.098675,
     "end_time": "2024-01-29T11:02:03.265825",
     "exception": false,
     "start_time": "2024-01-29T11:02:03.167150",
     "status": "completed"
    },
    "tags": []
   },
   "outputs": [
    {
     "data": {
      "text/html": [
       "<div>\n",
       "<style scoped>\n",
       "    .dataframe tbody tr th:only-of-type {\n",
       "        vertical-align: middle;\n",
       "    }\n",
       "\n",
       "    .dataframe tbody tr th {\n",
       "        vertical-align: top;\n",
       "    }\n",
       "\n",
       "    .dataframe thead th {\n",
       "        text-align: right;\n",
       "    }\n",
       "</style>\n",
       "<table border=\"1\" class=\"dataframe\">\n",
       "  <thead>\n",
       "    <tr style=\"text-align: right;\">\n",
       "      <th></th>\n",
       "      <th>passengerid</th>\n",
       "      <th>survived</th>\n",
       "      <th>pclass</th>\n",
       "      <th>name</th>\n",
       "      <th>sex</th>\n",
       "      <th>age</th>\n",
       "      <th>sibsp</th>\n",
       "      <th>parch</th>\n",
       "      <th>ticket</th>\n",
       "      <th>fare</th>\n",
       "      <th>cabin</th>\n",
       "      <th>embarked</th>\n",
       "      <th>title</th>\n",
       "      <th>age_group</th>\n",
       "      <th>age_bin</th>\n",
       "      <th>fare_bin</th>\n",
       "      <th>family_size</th>\n",
       "      <th>family_sizeGroup</th>\n",
       "    </tr>\n",
       "  </thead>\n",
       "  <tbody>\n",
       "    <tr>\n",
       "      <th>0</th>\n",
       "      <td>1</td>\n",
       "      <td>0.0</td>\n",
       "      <td>3</td>\n",
       "      <td>Braund, Mr. Owen Harris</td>\n",
       "      <td>male</td>\n",
       "      <td>22.0</td>\n",
       "      <td>1</td>\n",
       "      <td>0</td>\n",
       "      <td>A/5 21171</td>\n",
       "      <td>7.2500</td>\n",
       "      <td>X</td>\n",
       "      <td>S</td>\n",
       "      <td>Mr</td>\n",
       "      <td>adult</td>\n",
       "      <td>1</td>\n",
       "      <td>0</td>\n",
       "      <td>2</td>\n",
       "      <td>small</td>\n",
       "    </tr>\n",
       "    <tr>\n",
       "      <th>1</th>\n",
       "      <td>2</td>\n",
       "      <td>1.0</td>\n",
       "      <td>1</td>\n",
       "      <td>Cumings, Mrs. John Bradley (Florence Briggs Th...</td>\n",
       "      <td>female</td>\n",
       "      <td>38.0</td>\n",
       "      <td>1</td>\n",
       "      <td>0</td>\n",
       "      <td>PC 17599</td>\n",
       "      <td>71.2833</td>\n",
       "      <td>C</td>\n",
       "      <td>C</td>\n",
       "      <td>Mrs</td>\n",
       "      <td>adult</td>\n",
       "      <td>3</td>\n",
       "      <td>4</td>\n",
       "      <td>2</td>\n",
       "      <td>small</td>\n",
       "    </tr>\n",
       "    <tr>\n",
       "      <th>2</th>\n",
       "      <td>3</td>\n",
       "      <td>1.0</td>\n",
       "      <td>3</td>\n",
       "      <td>Heikkinen, Miss. Laina</td>\n",
       "      <td>female</td>\n",
       "      <td>26.0</td>\n",
       "      <td>0</td>\n",
       "      <td>0</td>\n",
       "      <td>STON/O2. 3101282</td>\n",
       "      <td>7.9250</td>\n",
       "      <td>X</td>\n",
       "      <td>S</td>\n",
       "      <td>Miss</td>\n",
       "      <td>adult</td>\n",
       "      <td>1</td>\n",
       "      <td>1</td>\n",
       "      <td>1</td>\n",
       "      <td>alone</td>\n",
       "    </tr>\n",
       "    <tr>\n",
       "      <th>3</th>\n",
       "      <td>4</td>\n",
       "      <td>1.0</td>\n",
       "      <td>1</td>\n",
       "      <td>Futrelle, Mrs. Jacques Heath (Lily May Peel)</td>\n",
       "      <td>female</td>\n",
       "      <td>35.0</td>\n",
       "      <td>1</td>\n",
       "      <td>0</td>\n",
       "      <td>113803</td>\n",
       "      <td>53.1000</td>\n",
       "      <td>C</td>\n",
       "      <td>S</td>\n",
       "      <td>Mrs</td>\n",
       "      <td>adult</td>\n",
       "      <td>2</td>\n",
       "      <td>4</td>\n",
       "      <td>2</td>\n",
       "      <td>small</td>\n",
       "    </tr>\n",
       "    <tr>\n",
       "      <th>4</th>\n",
       "      <td>5</td>\n",
       "      <td>0.0</td>\n",
       "      <td>3</td>\n",
       "      <td>Allen, Mr. William Henry</td>\n",
       "      <td>male</td>\n",
       "      <td>35.0</td>\n",
       "      <td>0</td>\n",
       "      <td>0</td>\n",
       "      <td>373450</td>\n",
       "      <td>8.0500</td>\n",
       "      <td>X</td>\n",
       "      <td>S</td>\n",
       "      <td>Mr</td>\n",
       "      <td>adult</td>\n",
       "      <td>2</td>\n",
       "      <td>1</td>\n",
       "      <td>1</td>\n",
       "      <td>alone</td>\n",
       "    </tr>\n",
       "  </tbody>\n",
       "</table>\n",
       "</div>"
      ],
      "text/plain": [
       "   passengerid  survived  pclass  \\\n",
       "0            1       0.0       3   \n",
       "1            2       1.0       1   \n",
       "2            3       1.0       3   \n",
       "3            4       1.0       1   \n",
       "4            5       0.0       3   \n",
       "\n",
       "                                                name     sex   age  sibsp  \\\n",
       "0                            Braund, Mr. Owen Harris    male  22.0      1   \n",
       "1  Cumings, Mrs. John Bradley (Florence Briggs Th...  female  38.0      1   \n",
       "2                             Heikkinen, Miss. Laina  female  26.0      0   \n",
       "3       Futrelle, Mrs. Jacques Heath (Lily May Peel)  female  35.0      1   \n",
       "4                           Allen, Mr. William Henry    male  35.0      0   \n",
       "\n",
       "   parch            ticket     fare cabin embarked title age_group  age_bin  \\\n",
       "0      0         A/5 21171   7.2500     X        S    Mr     adult        1   \n",
       "1      0          PC 17599  71.2833     C        C   Mrs     adult        3   \n",
       "2      0  STON/O2. 3101282   7.9250     X        S  Miss     adult        1   \n",
       "3      0            113803  53.1000     C        S   Mrs     adult        2   \n",
       "4      0            373450   8.0500     X        S    Mr     adult        2   \n",
       "\n",
       "   fare_bin  family_size family_sizeGroup  \n",
       "0         0            2            small  \n",
       "1         4            2            small  \n",
       "2         1            1            alone  \n",
       "3         4            2            small  \n",
       "4         1            1            alone  "
      ]
     },
     "execution_count": 67,
     "metadata": {},
     "output_type": "execute_result"
    }
   ],
   "source": [
    "family_map = {1: 'alone', \n",
    "              2: 'small', \n",
    "              3: 'small', \n",
    "              4: 'small', \n",
    "              5: 'medium', \n",
    "              6: 'medium', \n",
    "              7: 'large', \n",
    "              8: 'large', \n",
    "              11: 'large'}\n",
    "\n",
    "df['family_sizeGroup'] = df['family_size'].map(family_map)\n",
    "\n",
    "df.head()"
   ]
  },
  {
   "cell_type": "code",
   "execution_count": 68,
   "id": "0755f021",
   "metadata": {
    "papermill": {
     "duration": 0.466606,
     "end_time": "2024-01-29T11:02:03.798549",
     "exception": false,
     "start_time": "2024-01-29T11:02:03.331943",
     "status": "completed"
    },
    "tags": []
   },
   "outputs": [
    {
     "data": {
      "text/plain": [
       "Text(0.5, 1.0, 'Distribution of survived by Family Size Group')"
      ]
     },
     "execution_count": 68,
     "metadata": {},
     "output_type": "execute_result"
    },
    {
     "data": {
      "image/png": "[encoded data removed]",
      "text/plain": [
       "<Figure size 640x480 with 1 Axes>"
      ]
     },
     "metadata": {},
     "output_type": "display_data"
    }
   ],
   "source": [
    "order=['alone','small','medium','large']\n",
    "\n",
    "sns.countplot(x=df['family_sizeGroup'], hue='survived', data=df, order=order)\n",
    "\n",
    "plt.title('Distribution of survived by Family Size Group')"
   ]
  },
  {
   "cell_type": "markdown",
   "id": "ebe936f6",
   "metadata": {
    "papermill": {
     "duration": 0.059942,
     "end_time": "2024-01-29T11:02:03.919092",
     "exception": false,
     "start_time": "2024-01-29T11:02:03.859150",
     "status": "completed"
    },
    "tags": []
   },
   "source": [
    "A person who was alone had a higher chance to Died."
   ]
  },
  {
   "cell_type": "markdown",
   "id": "efe638ff",
   "metadata": {
    "papermill": {
     "duration": 0.061083,
     "end_time": "2024-01-29T11:02:04.040674",
     "exception": false,
     "start_time": "2024-01-29T11:02:03.979591",
     "status": "completed"
    },
    "tags": []
   },
   "source": [
    "## Ticket"
   ]
  },
  {
   "cell_type": "code",
   "execution_count": 69,
   "id": "7c3bbad0",
   "metadata": {
    "papermill": {
     "duration": 0.075705,
     "end_time": "2024-01-29T11:02:04.177523",
     "exception": false,
     "start_time": "2024-01-29T11:02:04.101818",
     "status": "completed"
    },
    "tags": []
   },
   "outputs": [
    {
     "data": {
      "text/plain": [
       "0           A/5 21171\n",
       "1            PC 17599\n",
       "2    STON/O2. 3101282\n",
       "3              113803\n",
       "4              373450\n",
       "Name: ticket, dtype: object"
      ]
     },
     "execution_count": 69,
     "metadata": {},
     "output_type": "execute_result"
    }
   ],
   "source": [
    "df['ticket'].head()"
   ]
  },
  {
   "cell_type": "code",
   "execution_count": 70,
   "id": "3121f943",
   "metadata": {
    "papermill": {
     "duration": 0.078544,
     "end_time": "2024-01-29T11:02:04.317290",
     "exception": false,
     "start_time": "2024-01-29T11:02:04.238746",
     "status": "completed"
    },
    "tags": []
   },
   "outputs": [
    {
     "data": {
      "text/plain": [
       "count         1309\n",
       "unique         929\n",
       "top       CA. 2343\n",
       "freq            11\n",
       "Name: ticket, dtype: object"
      ]
     },
     "execution_count": 70,
     "metadata": {},
     "output_type": "execute_result"
    }
   ],
   "source": [
    "df['ticket'].describe()"
   ]
  },
  {
   "cell_type": "code",
   "execution_count": 71,
   "id": "bb33700d",
   "metadata": {
    "papermill": {
     "duration": 0.078328,
     "end_time": "2024-01-29T11:02:04.580282",
     "exception": false,
     "start_time": "2024-01-29T11:02:04.501954",
     "status": "completed"
    },
    "tags": []
   },
   "outputs": [],
   "source": [
    "df['last_name'] = df['name'].str.split(',').str[0]"
   ]
  },
  {
   "cell_type": "code",
   "execution_count": 72,
   "id": "2cddd618",
   "metadata": {
    "papermill": {
     "duration": 0.076794,
     "end_time": "2024-01-29T11:02:04.721926",
     "exception": false,
     "start_time": "2024-01-29T11:02:04.645132",
     "status": "completed"
    },
    "tags": []
   },
   "outputs": [
    {
     "data": {
      "text/plain": [
       "Andersson    11\n",
       "Sage         11\n",
       "Goodwin       8\n",
       "Asplund       8\n",
       "Davies        7\n",
       "             ..\n",
       "Milling       1\n",
       "Maisner       1\n",
       "Goncalves     1\n",
       "Campbell      1\n",
       "Saether       1\n",
       "Name: last_name, Length: 875, dtype: int64"
      ]
     },
     "execution_count": 72,
     "metadata": {},
     "output_type": "execute_result"
    }
   ],
   "source": [
    "df['last_name'].value_counts()"
   ]
  },
  {
   "cell_type": "code",
   "execution_count": 73,
   "id": "5ca5be0f",
   "metadata": {
    "papermill": {
     "duration": 0.077781,
     "end_time": "2024-01-29T11:02:04.860955",
     "exception": false,
     "start_time": "2024-01-29T11:02:04.783174",
     "status": "completed"
    },
    "tags": []
   },
   "outputs": [
    {
     "data": {
      "text/plain": [
       "count          1309\n",
       "unique          875\n",
       "top       Andersson\n",
       "freq             11\n",
       "Name: last_name, dtype: object"
      ]
     },
     "execution_count": 73,
     "metadata": {},
     "output_type": "execute_result"
    }
   ],
   "source": [
    "df['last_name'].describe()"
   ]
  },
  {
   "cell_type": "code",
   "execution_count": 74,
   "id": "14c74995",
   "metadata": {
    "papermill": {
     "duration": 1.679375,
     "end_time": "2024-01-29T11:02:06.601331",
     "exception": false,
     "start_time": "2024-01-29T11:02:04.921956",
     "status": "completed"
    },
    "tags": []
   },
   "outputs": [
    {
     "data": {
      "text/html": [
       "<div>\n",
       "<style scoped>\n",
       "    .dataframe tbody tr th:only-of-type {\n",
       "        vertical-align: middle;\n",
       "    }\n",
       "\n",
       "    .dataframe tbody tr th {\n",
       "        vertical-align: top;\n",
       "    }\n",
       "\n",
       "    .dataframe thead th {\n",
       "        text-align: right;\n",
       "    }\n",
       "</style>\n",
       "<table border=\"1\" class=\"dataframe\">\n",
       "  <thead>\n",
       "    <tr style=\"text-align: right;\">\n",
       "      <th></th>\n",
       "      <th>ticket</th>\n",
       "      <th>last_name</th>\n",
       "      <th>fare</th>\n",
       "      <th>family_size</th>\n",
       "      <th>survived</th>\n",
       "    </tr>\n",
       "  </thead>\n",
       "  <tbody>\n",
       "    <tr>\n",
       "      <th>1</th>\n",
       "      <td>PC 17599</td>\n",
       "      <td>Cumings</td>\n",
       "      <td>71.2833</td>\n",
       "      <td>2</td>\n",
       "      <td>1.0</td>\n",
       "    </tr>\n",
       "    <tr>\n",
       "      <th>234</th>\n",
       "      <td>PC 17599</td>\n",
       "      <td>Cumings</td>\n",
       "      <td>71.2833</td>\n",
       "      <td>2</td>\n",
       "      <td>NaN</td>\n",
       "    </tr>\n",
       "    <tr>\n",
       "      <th>3</th>\n",
       "      <td>113803</td>\n",
       "      <td>Futrelle</td>\n",
       "      <td>53.1000</td>\n",
       "      <td>2</td>\n",
       "      <td>1.0</td>\n",
       "    </tr>\n",
       "    <tr>\n",
       "      <th>137</th>\n",
       "      <td>113803</td>\n",
       "      <td>Futrelle</td>\n",
       "      <td>53.1000</td>\n",
       "      <td>2</td>\n",
       "      <td>0.0</td>\n",
       "    </tr>\n",
       "    <tr>\n",
       "      <th>6</th>\n",
       "      <td>17463</td>\n",
       "      <td>McCarthy</td>\n",
       "      <td>51.8625</td>\n",
       "      <td>1</td>\n",
       "      <td>0.0</td>\n",
       "    </tr>\n",
       "    <tr>\n",
       "      <th>146</th>\n",
       "      <td>17463</td>\n",
       "      <td>Hilliard</td>\n",
       "      <td>51.8625</td>\n",
       "      <td>1</td>\n",
       "      <td>NaN</td>\n",
       "    </tr>\n",
       "    <tr>\n",
       "      <th>7</th>\n",
       "      <td>349909</td>\n",
       "      <td>Palsson</td>\n",
       "      <td>21.0750</td>\n",
       "      <td>5</td>\n",
       "      <td>0.0</td>\n",
       "    </tr>\n",
       "    <tr>\n",
       "      <th>24</th>\n",
       "      <td>349909</td>\n",
       "      <td>Palsson</td>\n",
       "      <td>21.0750</td>\n",
       "      <td>5</td>\n",
       "      <td>0.0</td>\n",
       "    </tr>\n",
       "    <tr>\n",
       "      <th>374</th>\n",
       "      <td>349909</td>\n",
       "      <td>Palsson</td>\n",
       "      <td>21.0750</td>\n",
       "      <td>5</td>\n",
       "      <td>0.0</td>\n",
       "    </tr>\n",
       "    <tr>\n",
       "      <th>567</th>\n",
       "      <td>349909</td>\n",
       "      <td>Palsson</td>\n",
       "      <td>21.0750</td>\n",
       "      <td>5</td>\n",
       "      <td>0.0</td>\n",
       "    </tr>\n",
       "    <tr>\n",
       "      <th>389</th>\n",
       "      <td>349909</td>\n",
       "      <td>Palsson</td>\n",
       "      <td>21.0750</td>\n",
       "      <td>5</td>\n",
       "      <td>NaN</td>\n",
       "    </tr>\n",
       "    <tr>\n",
       "      <th>8</th>\n",
       "      <td>347742</td>\n",
       "      <td>Johnson</td>\n",
       "      <td>11.1333</td>\n",
       "      <td>3</td>\n",
       "      <td>1.0</td>\n",
       "    </tr>\n",
       "    <tr>\n",
       "      <th>172</th>\n",
       "      <td>347742</td>\n",
       "      <td>Johnson</td>\n",
       "      <td>11.1333</td>\n",
       "      <td>3</td>\n",
       "      <td>1.0</td>\n",
       "    </tr>\n",
       "    <tr>\n",
       "      <th>869</th>\n",
       "      <td>347742</td>\n",
       "      <td>Johnson</td>\n",
       "      <td>11.1333</td>\n",
       "      <td>3</td>\n",
       "      <td>1.0</td>\n",
       "    </tr>\n",
       "  </tbody>\n",
       "</table>\n",
       "</div>"
      ],
      "text/plain": [
       "       ticket last_name     fare  family_size  survived\n",
       "1    PC 17599   Cumings  71.2833            2       1.0\n",
       "234  PC 17599   Cumings  71.2833            2       NaN\n",
       "3      113803  Futrelle  53.1000            2       1.0\n",
       "137    113803  Futrelle  53.1000            2       0.0\n",
       "6       17463  McCarthy  51.8625            1       0.0\n",
       "146     17463  Hilliard  51.8625            1       NaN\n",
       "7      349909   Palsson  21.0750            5       0.0\n",
       "24     349909   Palsson  21.0750            5       0.0\n",
       "374    349909   Palsson  21.0750            5       0.0\n",
       "567    349909   Palsson  21.0750            5       0.0\n",
       "389    349909   Palsson  21.0750            5       NaN\n",
       "8      347742   Johnson  11.1333            3       1.0\n",
       "172    347742   Johnson  11.1333            3       1.0\n",
       "869    347742   Johnson  11.1333            3       1.0"
      ]
     },
     "execution_count": 74,
     "metadata": {},
     "output_type": "execute_result"
    }
   ],
   "source": [
    "duplicate_ticket = []\n",
    "for tk in df['ticket'].unique():\n",
    "    same_ticket = df[df['ticket'] == tk]['ticket']\n",
    "    if (same_ticket.count()>1):\n",
    "        duplicate_ticket.append(df.loc[df['ticket']==tk, ['ticket','last_name', 'fare', 'family_size', 'survived']])\n",
    "\n",
    "duplicate_ticket = pd.concat(duplicate_ticket)\n",
    "duplicate_ticket.head(14)"
   ]
  },
  {
   "cell_type": "code",
   "execution_count": 75,
   "id": "e9daab8c",
   "metadata": {
    "papermill": {
     "duration": 1.679066,
     "end_time": "2024-01-29T11:02:08.478049",
     "exception": false,
     "start_time": "2024-01-29T11:02:06.798983",
     "status": "completed"
    },
    "tags": []
   },
   "outputs": [
    {
     "data": {
      "text/plain": [
       "connections\n",
       "0.0    0.225352\n",
       "0.5    0.297989\n",
       "1.0    0.727723\n",
       "Name: survived, dtype: float64"
      ]
     },
     "execution_count": 75,
     "metadata": {},
     "output_type": "execute_result"
    }
   ],
   "source": [
    "df['connections'] = 0.5  #(Default values)\n",
    "\n",
    "for _, data_same in df.groupby('ticket'):\n",
    "    if (len(data_same) > 1):\n",
    "        for ind, row in data_same.iterrows():\n",
    "            smax = data_same.drop(ind)['survived'].max()\n",
    "            smin = data_same.drop(ind)['survived'].min()\n",
    "            passid = row['passengerid']\n",
    "            \n",
    "            if (smax == 1):\n",
    "                df.loc[df['passengerid'] == passid, 'connections'] = 1\n",
    "            elif (smin == 0):\n",
    "                df.loc[df['passengerid'] == passid, 'connections'] = 0\n",
    "\n",
    "df.groupby('connections')['survived'].mean()"
   ]
  },
  {
   "cell_type": "code",
   "execution_count": 76,
   "id": "90857f3d",
   "metadata": {
    "papermill": {
     "duration": 0.091491,
     "end_time": "2024-01-29T11:02:08.633388",
     "exception": false,
     "start_time": "2024-01-29T11:02:08.541897",
     "status": "completed"
    },
    "tags": []
   },
   "outputs": [
    {
     "data": {
      "text/html": [
       "<div>\n",
       "<style scoped>\n",
       "    .dataframe tbody tr th:only-of-type {\n",
       "        vertical-align: middle;\n",
       "    }\n",
       "\n",
       "    .dataframe tbody tr th {\n",
       "        vertical-align: top;\n",
       "    }\n",
       "\n",
       "    .dataframe thead th {\n",
       "        text-align: right;\n",
       "    }\n",
       "</style>\n",
       "<table border=\"1\" class=\"dataframe\">\n",
       "  <thead>\n",
       "    <tr style=\"text-align: right;\">\n",
       "      <th>connections</th>\n",
       "      <th>0.0</th>\n",
       "      <th>0.5</th>\n",
       "      <th>1.0</th>\n",
       "    </tr>\n",
       "    <tr>\n",
       "      <th>survived</th>\n",
       "      <th></th>\n",
       "      <th></th>\n",
       "      <th></th>\n",
       "    </tr>\n",
       "  </thead>\n",
       "  <tbody>\n",
       "    <tr>\n",
       "      <th>0.0</th>\n",
       "      <td>110</td>\n",
       "      <td>384</td>\n",
       "      <td>55</td>\n",
       "    </tr>\n",
       "    <tr>\n",
       "      <th>1.0</th>\n",
       "      <td>32</td>\n",
       "      <td>163</td>\n",
       "      <td>147</td>\n",
       "    </tr>\n",
       "  </tbody>\n",
       "</table>\n",
       "</div>"
      ],
      "text/plain": [
       "connections  0.0  0.5  1.0\n",
       "survived                  \n",
       "0.0          110  384   55\n",
       "1.0           32  163  147"
      ]
     },
     "execution_count": 76,
     "metadata": {},
     "output_type": "execute_result"
    }
   ],
   "source": [
    "pd.crosstab(df['survived'],df['connections'])"
   ]
  },
  {
   "cell_type": "code",
   "execution_count": 77,
   "id": "ff2d3f94",
   "metadata": {
    "papermill": {
     "duration": 0.094852,
     "end_time": "2024-01-29T11:02:08.927943",
     "exception": false,
     "start_time": "2024-01-29T11:02:08.833091",
     "status": "completed"
    },
    "tags": []
   },
   "outputs": [
    {
     "data": {
      "text/html": [
       "<div>\n",
       "<style scoped>\n",
       "    .dataframe tbody tr th:only-of-type {\n",
       "        vertical-align: middle;\n",
       "    }\n",
       "\n",
       "    .dataframe tbody tr th {\n",
       "        vertical-align: top;\n",
       "    }\n",
       "\n",
       "    .dataframe thead th {\n",
       "        text-align: right;\n",
       "    }\n",
       "</style>\n",
       "<table border=\"1\" class=\"dataframe\">\n",
       "  <thead>\n",
       "    <tr style=\"text-align: right;\">\n",
       "      <th></th>\n",
       "      <th>passengerid</th>\n",
       "      <th>survived</th>\n",
       "      <th>pclass</th>\n",
       "      <th>name</th>\n",
       "      <th>sex</th>\n",
       "      <th>age</th>\n",
       "      <th>sibsp</th>\n",
       "      <th>parch</th>\n",
       "      <th>ticket</th>\n",
       "      <th>fare</th>\n",
       "      <th>cabin</th>\n",
       "      <th>embarked</th>\n",
       "      <th>title</th>\n",
       "      <th>age_group</th>\n",
       "      <th>age_bin</th>\n",
       "      <th>fare_bin</th>\n",
       "      <th>family_size</th>\n",
       "      <th>family_sizeGroup</th>\n",
       "      <th>last_name</th>\n",
       "      <th>connections</th>\n",
       "    </tr>\n",
       "  </thead>\n",
       "  <tbody>\n",
       "    <tr>\n",
       "      <th>0</th>\n",
       "      <td>1</td>\n",
       "      <td>0.0</td>\n",
       "      <td>3</td>\n",
       "      <td>Braund, Mr. Owen Harris</td>\n",
       "      <td>male</td>\n",
       "      <td>22.0</td>\n",
       "      <td>1</td>\n",
       "      <td>0</td>\n",
       "      <td>A/5 21171</td>\n",
       "      <td>7.2500</td>\n",
       "      <td>X</td>\n",
       "      <td>S</td>\n",
       "      <td>Mr</td>\n",
       "      <td>adult</td>\n",
       "      <td>1</td>\n",
       "      <td>0</td>\n",
       "      <td>2</td>\n",
       "      <td>small</td>\n",
       "      <td>Braund</td>\n",
       "      <td>0.5</td>\n",
       "    </tr>\n",
       "    <tr>\n",
       "      <th>1</th>\n",
       "      <td>2</td>\n",
       "      <td>1.0</td>\n",
       "      <td>1</td>\n",
       "      <td>Cumings, Mrs. John Bradley (Florence Briggs Th...</td>\n",
       "      <td>female</td>\n",
       "      <td>38.0</td>\n",
       "      <td>1</td>\n",
       "      <td>0</td>\n",
       "      <td>PC 17599</td>\n",
       "      <td>71.2833</td>\n",
       "      <td>C</td>\n",
       "      <td>C</td>\n",
       "      <td>Mrs</td>\n",
       "      <td>adult</td>\n",
       "      <td>3</td>\n",
       "      <td>4</td>\n",
       "      <td>2</td>\n",
       "      <td>small</td>\n",
       "      <td>Cumings</td>\n",
       "      <td>0.5</td>\n",
       "    </tr>\n",
       "    <tr>\n",
       "      <th>2</th>\n",
       "      <td>3</td>\n",
       "      <td>1.0</td>\n",
       "      <td>3</td>\n",
       "      <td>Heikkinen, Miss. Laina</td>\n",
       "      <td>female</td>\n",
       "      <td>26.0</td>\n",
       "      <td>0</td>\n",
       "      <td>0</td>\n",
       "      <td>STON/O2. 3101282</td>\n",
       "      <td>7.9250</td>\n",
       "      <td>X</td>\n",
       "      <td>S</td>\n",
       "      <td>Miss</td>\n",
       "      <td>adult</td>\n",
       "      <td>1</td>\n",
       "      <td>1</td>\n",
       "      <td>1</td>\n",
       "      <td>alone</td>\n",
       "      <td>Heikkinen</td>\n",
       "      <td>0.5</td>\n",
       "    </tr>\n",
       "    <tr>\n",
       "      <th>3</th>\n",
       "      <td>4</td>\n",
       "      <td>1.0</td>\n",
       "      <td>1</td>\n",
       "      <td>Futrelle, Mrs. Jacques Heath (Lily May Peel)</td>\n",
       "      <td>female</td>\n",
       "      <td>35.0</td>\n",
       "      <td>1</td>\n",
       "      <td>0</td>\n",
       "      <td>113803</td>\n",
       "      <td>53.1000</td>\n",
       "      <td>C</td>\n",
       "      <td>S</td>\n",
       "      <td>Mrs</td>\n",
       "      <td>adult</td>\n",
       "      <td>2</td>\n",
       "      <td>4</td>\n",
       "      <td>2</td>\n",
       "      <td>small</td>\n",
       "      <td>Futrelle</td>\n",
       "      <td>0.0</td>\n",
       "    </tr>\n",
       "    <tr>\n",
       "      <th>4</th>\n",
       "      <td>5</td>\n",
       "      <td>0.0</td>\n",
       "      <td>3</td>\n",
       "      <td>Allen, Mr. William Henry</td>\n",
       "      <td>male</td>\n",
       "      <td>35.0</td>\n",
       "      <td>0</td>\n",
       "      <td>0</td>\n",
       "      <td>373450</td>\n",
       "      <td>8.0500</td>\n",
       "      <td>X</td>\n",
       "      <td>S</td>\n",
       "      <td>Mr</td>\n",
       "      <td>adult</td>\n",
       "      <td>2</td>\n",
       "      <td>1</td>\n",
       "      <td>1</td>\n",
       "      <td>alone</td>\n",
       "      <td>Allen</td>\n",
       "      <td>0.5</td>\n",
       "    </tr>\n",
       "  </tbody>\n",
       "</table>\n",
       "</div>"
      ],
      "text/plain": [
       "   passengerid  survived  pclass  \\\n",
       "0            1       0.0       3   \n",
       "1            2       1.0       1   \n",
       "2            3       1.0       3   \n",
       "3            4       1.0       1   \n",
       "4            5       0.0       3   \n",
       "\n",
       "                                                name     sex   age  sibsp  \\\n",
       "0                            Braund, Mr. Owen Harris    male  22.0      1   \n",
       "1  Cumings, Mrs. John Bradley (Florence Briggs Th...  female  38.0      1   \n",
       "2                             Heikkinen, Miss. Laina  female  26.0      0   \n",
       "3       Futrelle, Mrs. Jacques Heath (Lily May Peel)  female  35.0      1   \n",
       "4                           Allen, Mr. William Henry    male  35.0      0   \n",
       "\n",
       "   parch            ticket     fare cabin embarked title age_group  age_bin  \\\n",
       "0      0         A/5 21171   7.2500     X        S    Mr     adult        1   \n",
       "1      0          PC 17599  71.2833     C        C   Mrs     adult        3   \n",
       "2      0  STON/O2. 3101282   7.9250     X        S  Miss     adult        1   \n",
       "3      0            113803  53.1000     C        S   Mrs     adult        2   \n",
       "4      0            373450   8.0500     X        S    Mr     adult        2   \n",
       "\n",
       "   fare_bin  family_size family_sizeGroup  last_name  connections  \n",
       "0         0            2            small     Braund          0.5  \n",
       "1         4            2            small    Cumings          0.5  \n",
       "2         1            1            alone  Heikkinen          0.5  \n",
       "3         4            2            small   Futrelle          0.0  \n",
       "4         1            1            alone      Allen          0.5  "
      ]
     },
     "execution_count": 77,
     "metadata": {},
     "output_type": "execute_result"
    }
   ],
   "source": [
    "df.head()"
   ]
  },
  {
   "cell_type": "code",
   "execution_count": 78,
   "id": "abb62129",
   "metadata": {
    "papermill": {
     "duration": 0.090067,
     "end_time": "2024-01-29T11:02:09.081390",
     "exception": false,
     "start_time": "2024-01-29T11:02:08.991323",
     "status": "completed"
    },
    "tags": []
   },
   "outputs": [
    {
     "name": "stdout",
     "output_type": "stream",
     "text": [
      "<class 'pandas.core.frame.DataFrame'>\n",
      "Int64Index: 1309 entries, 0 to 417\n",
      "Data columns (total 20 columns):\n",
      " #   Column            Non-Null Count  Dtype  \n",
      "---  ------            --------------  -----  \n",
      " 0   passengerid       1309 non-null   int64  \n",
      " 1   survived          891 non-null    float64\n",
      " 2   pclass            1309 non-null   int64  \n",
      " 3   name              1309 non-null   object \n",
      " 4   sex               1309 non-null   object \n",
      " 5   age               1309 non-null   float64\n",
      " 6   sibsp             1309 non-null   int64  \n",
      " 7   parch             1309 non-null   int64  \n",
      " 8   ticket            1309 non-null   object \n",
      " 9   fare              1309 non-null   float64\n",
      " 10  cabin             1309 non-null   object \n",
      " 11  embarked          1309 non-null   object \n",
      " 12  title             1309 non-null   object \n",
      " 13  age_group         1309 non-null   object \n",
      " 14  age_bin           1309 non-null   int32  \n",
      " 15  fare_bin          1309 non-null   int32  \n",
      " 16  family_size       1309 non-null   int64  \n",
      " 17  family_sizeGroup  1309 non-null   object \n",
      " 18  last_name         1309 non-null   object \n",
      " 19  connections       1309 non-null   float64\n",
      "dtypes: float64(4), int32(2), int64(5), object(9)\n",
      "memory usage: 204.5+ KB\n"
     ]
    }
   ],
   "source": [
    "df.info()"
   ]
  },
  {
   "cell_type": "code",
   "execution_count": 79,
   "id": "fb369099",
   "metadata": {
    "papermill": {
     "duration": 0.076564,
     "end_time": "2024-01-29T11:02:09.221836",
     "exception": false,
     "start_time": "2024-01-29T11:02:09.145272",
     "status": "completed"
    },
    "tags": []
   },
   "outputs": [
    {
     "data": {
      "text/plain": [
       "Index(['passengerid', 'survived', 'pclass', 'name', 'sex', 'age', 'sibsp',\n",
       "       'parch', 'ticket', 'fare', 'cabin', 'embarked', 'title', 'age_group',\n",
       "       'age_bin', 'fare_bin', 'family_size', 'family_sizeGroup', 'last_name',\n",
       "       'connections'],\n",
       "      dtype='object')"
      ]
     },
     "execution_count": 79,
     "metadata": {},
     "output_type": "execute_result"
    }
   ],
   "source": [
    "df.columns"
   ]
  },
  {
   "cell_type": "code",
   "execution_count": 80,
   "id": "12a3c5d7",
   "metadata": {
    "papermill": {
     "duration": 0.089714,
     "end_time": "2024-01-29T11:02:09.378406",
     "exception": false,
     "start_time": "2024-01-29T11:02:09.288692",
     "status": "completed"
    },
    "tags": []
   },
   "outputs": [
    {
     "data": {
      "text/html": [
       "<div>\n",
       "<style scoped>\n",
       "    .dataframe tbody tr th:only-of-type {\n",
       "        vertical-align: middle;\n",
       "    }\n",
       "\n",
       "    .dataframe tbody tr th {\n",
       "        vertical-align: top;\n",
       "    }\n",
       "\n",
       "    .dataframe thead th {\n",
       "        text-align: right;\n",
       "    }\n",
       "</style>\n",
       "<table border=\"1\" class=\"dataframe\">\n",
       "  <thead>\n",
       "    <tr style=\"text-align: right;\">\n",
       "      <th></th>\n",
       "      <th>survived</th>\n",
       "      <th>pclass</th>\n",
       "      <th>age_bin</th>\n",
       "      <th>fare_bin</th>\n",
       "      <th>sex</th>\n",
       "      <th>family_size</th>\n",
       "      <th>connections</th>\n",
       "    </tr>\n",
       "  </thead>\n",
       "  <tbody>\n",
       "    <tr>\n",
       "      <th>0</th>\n",
       "      <td>0.0</td>\n",
       "      <td>3</td>\n",
       "      <td>1</td>\n",
       "      <td>0</td>\n",
       "      <td>male</td>\n",
       "      <td>2</td>\n",
       "      <td>0.5</td>\n",
       "    </tr>\n",
       "    <tr>\n",
       "      <th>1</th>\n",
       "      <td>1.0</td>\n",
       "      <td>1</td>\n",
       "      <td>3</td>\n",
       "      <td>4</td>\n",
       "      <td>female</td>\n",
       "      <td>2</td>\n",
       "      <td>0.5</td>\n",
       "    </tr>\n",
       "    <tr>\n",
       "      <th>2</th>\n",
       "      <td>1.0</td>\n",
       "      <td>3</td>\n",
       "      <td>1</td>\n",
       "      <td>1</td>\n",
       "      <td>female</td>\n",
       "      <td>1</td>\n",
       "      <td>0.5</td>\n",
       "    </tr>\n",
       "    <tr>\n",
       "      <th>3</th>\n",
       "      <td>1.0</td>\n",
       "      <td>1</td>\n",
       "      <td>2</td>\n",
       "      <td>4</td>\n",
       "      <td>female</td>\n",
       "      <td>2</td>\n",
       "      <td>0.0</td>\n",
       "    </tr>\n",
       "    <tr>\n",
       "      <th>4</th>\n",
       "      <td>0.0</td>\n",
       "      <td>3</td>\n",
       "      <td>2</td>\n",
       "      <td>1</td>\n",
       "      <td>male</td>\n",
       "      <td>1</td>\n",
       "      <td>0.5</td>\n",
       "    </tr>\n",
       "  </tbody>\n",
       "</table>\n",
       "</div>"
      ],
      "text/plain": [
       "   survived  pclass  age_bin  fare_bin     sex  family_size  connections\n",
       "0       0.0       3        1         0    male            2          0.5\n",
       "1       1.0       1        3         4  female            2          0.5\n",
       "2       1.0       3        1         1  female            1          0.5\n",
       "3       1.0       1        2         4  female            2          0.0\n",
       "4       0.0       3        2         1    male            1          0.5"
      ]
     },
     "execution_count": 80,
     "metadata": {},
     "output_type": "execute_result"
    }
   ],
   "source": [
    "useful_columns = ['survived', \n",
    "                  'pclass', \n",
    "                  'age_bin', \n",
    "                  'fare_bin',\n",
    "                  'sex', \n",
    "                  'family_size',\n",
    "                  'connections']\n",
    "\n",
    "data_final = df[useful_columns]\n",
    "\n",
    "data_final.head()"
   ]
  },
  {
   "cell_type": "code",
   "execution_count": 81,
   "id": "cc2c5c2d",
   "metadata": {
    "papermill": {
     "duration": 0.091024,
     "end_time": "2024-01-29T11:02:09.535425",
     "exception": false,
     "start_time": "2024-01-29T11:02:09.444401",
     "status": "completed"
    },
    "tags": []
   },
   "outputs": [
    {
     "data": {
      "text/html": [
       "<div>\n",
       "<style scoped>\n",
       "    .dataframe tbody tr th:only-of-type {\n",
       "        vertical-align: middle;\n",
       "    }\n",
       "\n",
       "    .dataframe tbody tr th {\n",
       "        vertical-align: top;\n",
       "    }\n",
       "\n",
       "    .dataframe thead th {\n",
       "        text-align: right;\n",
       "    }\n",
       "</style>\n",
       "<table border=\"1\" class=\"dataframe\">\n",
       "  <thead>\n",
       "    <tr style=\"text-align: right;\">\n",
       "      <th></th>\n",
       "      <th>survived</th>\n",
       "      <th>pclass</th>\n",
       "      <th>age_bin</th>\n",
       "      <th>fare_bin</th>\n",
       "      <th>family_size</th>\n",
       "      <th>connections</th>\n",
       "      <th>sex_female</th>\n",
       "      <th>sex_male</th>\n",
       "    </tr>\n",
       "  </thead>\n",
       "  <tbody>\n",
       "    <tr>\n",
       "      <th>0</th>\n",
       "      <td>0.0</td>\n",
       "      <td>3</td>\n",
       "      <td>1</td>\n",
       "      <td>0</td>\n",
       "      <td>2</td>\n",
       "      <td>0.5</td>\n",
       "      <td>0</td>\n",
       "      <td>1</td>\n",
       "    </tr>\n",
       "    <tr>\n",
       "      <th>1</th>\n",
       "      <td>1.0</td>\n",
       "      <td>1</td>\n",
       "      <td>3</td>\n",
       "      <td>4</td>\n",
       "      <td>2</td>\n",
       "      <td>0.5</td>\n",
       "      <td>1</td>\n",
       "      <td>0</td>\n",
       "    </tr>\n",
       "    <tr>\n",
       "      <th>2</th>\n",
       "      <td>1.0</td>\n",
       "      <td>3</td>\n",
       "      <td>1</td>\n",
       "      <td>1</td>\n",
       "      <td>1</td>\n",
       "      <td>0.5</td>\n",
       "      <td>1</td>\n",
       "      <td>0</td>\n",
       "    </tr>\n",
       "    <tr>\n",
       "      <th>3</th>\n",
       "      <td>1.0</td>\n",
       "      <td>1</td>\n",
       "      <td>2</td>\n",
       "      <td>4</td>\n",
       "      <td>2</td>\n",
       "      <td>0.0</td>\n",
       "      <td>1</td>\n",
       "      <td>0</td>\n",
       "    </tr>\n",
       "    <tr>\n",
       "      <th>4</th>\n",
       "      <td>0.0</td>\n",
       "      <td>3</td>\n",
       "      <td>2</td>\n",
       "      <td>1</td>\n",
       "      <td>1</td>\n",
       "      <td>0.5</td>\n",
       "      <td>0</td>\n",
       "      <td>1</td>\n",
       "    </tr>\n",
       "  </tbody>\n",
       "</table>\n",
       "</div>"
      ],
      "text/plain": [
       "   survived  pclass  age_bin  fare_bin  family_size  connections  sex_female  \\\n",
       "0       0.0       3        1         0            2          0.5           0   \n",
       "1       1.0       1        3         4            2          0.5           1   \n",
       "2       1.0       3        1         1            1          0.5           1   \n",
       "3       1.0       1        2         4            2          0.0           1   \n",
       "4       0.0       3        2         1            1          0.5           0   \n",
       "\n",
       "   sex_male  \n",
       "0         1  \n",
       "1         0  \n",
       "2         0  \n",
       "3         0  \n",
       "4         1  "
      ]
     },
     "execution_count": 81,
     "metadata": {},
     "output_type": "execute_result"
    }
   ],
   "source": [
    "data_final = pd.get_dummies(data_final)\n",
    "\n",
    "data_final.head()"
   ]
  },
  {
   "cell_type": "code",
   "execution_count": 82,
   "id": "27c6c18a",
   "metadata": {
    "papermill": {
     "duration": 0.563945,
     "end_time": "2024-01-29T11:02:10.167623",
     "exception": false,
     "start_time": "2024-01-29T11:02:09.603678",
     "status": "completed"
    },
    "tags": []
   },
   "outputs": [
    {
     "data": {
      "text/plain": [
       "<AxesSubplot: >"
      ]
     },
     "execution_count": 82,
     "metadata": {},
     "output_type": "execute_result"
    },
    {
     "data": {
      "image/png": "[encoded data removed]",
      "text/plain": [
       "<Figure size 800x600 with 2 Axes>"
      ]
     },
     "metadata": {},
     "output_type": "display_data"
    }
   ],
   "source": [
    "plt.figure(figsize=(8,6))\n",
    "sns.heatmap(data_final.corr(),cmap = \"GnBu_r\",annot=True)"
   ]
  },
  {
   "cell_type": "code",
   "execution_count": 83,
   "id": "9a2a917b",
   "metadata": {
    "papermill": {
     "duration": 0.084014,
     "end_time": "2024-01-29T11:02:10.317224",
     "exception": false,
     "start_time": "2024-01-29T11:02:10.233210",
     "status": "completed"
    },
    "tags": []
   },
   "outputs": [
    {
     "data": {
      "text/html": [
       "<div>\n",
       "<style scoped>\n",
       "    .dataframe tbody tr th:only-of-type {\n",
       "        vertical-align: middle;\n",
       "    }\n",
       "\n",
       "    .dataframe tbody tr th {\n",
       "        vertical-align: top;\n",
       "    }\n",
       "\n",
       "    .dataframe thead th {\n",
       "        text-align: right;\n",
       "    }\n",
       "</style>\n",
       "<table border=\"1\" class=\"dataframe\">\n",
       "  <thead>\n",
       "    <tr style=\"text-align: right;\">\n",
       "      <th></th>\n",
       "      <th>survived</th>\n",
       "    </tr>\n",
       "  </thead>\n",
       "  <tbody>\n",
       "    <tr>\n",
       "      <th>survived</th>\n",
       "      <td>1.000000</td>\n",
       "    </tr>\n",
       "    <tr>\n",
       "      <th>sex_female</th>\n",
       "      <td>0.543351</td>\n",
       "    </tr>\n",
       "    <tr>\n",
       "      <th>connections</th>\n",
       "      <td>0.343614</td>\n",
       "    </tr>\n",
       "    <tr>\n",
       "      <th>fare_bin</th>\n",
       "      <td>0.317386</td>\n",
       "    </tr>\n",
       "    <tr>\n",
       "      <th>family_size</th>\n",
       "      <td>0.016639</td>\n",
       "    </tr>\n",
       "    <tr>\n",
       "      <th>age_bin</th>\n",
       "      <td>-0.062880</td>\n",
       "    </tr>\n",
       "    <tr>\n",
       "      <th>pclass</th>\n",
       "      <td>-0.338481</td>\n",
       "    </tr>\n",
       "    <tr>\n",
       "      <th>sex_male</th>\n",
       "      <td>-0.543351</td>\n",
       "    </tr>\n",
       "  </tbody>\n",
       "</table>\n",
       "</div>"
      ],
      "text/plain": [
       "             survived\n",
       "survived     1.000000\n",
       "sex_female   0.543351\n",
       "connections  0.343614\n",
       "fare_bin     0.317386\n",
       "family_size  0.016639\n",
       "age_bin     -0.062880\n",
       "pclass      -0.338481\n",
       "sex_male    -0.543351"
      ]
     },
     "execution_count": 83,
     "metadata": {},
     "output_type": "execute_result"
    }
   ],
   "source": [
    "data_final.corr()['survived'].sort_values(ascending=False).to_frame()"
   ]
  },
  {
   "cell_type": "code",
   "execution_count": 84,
   "id": "8a1746e3",
   "metadata": {
    "papermill": {
     "duration": 0.078565,
     "end_time": "2024-01-29T11:02:10.461761",
     "exception": false,
     "start_time": "2024-01-29T11:02:10.383196",
     "status": "completed"
    },
    "tags": []
   },
   "outputs": [],
   "source": [
    "df_train = data_final[:len(train)]\n",
    "df_test = data_final[len(train):]\n",
    "\n",
    "df_test.drop('survived', axis=1, inplace=True)"
   ]
  },
  {
   "cell_type": "code",
   "execution_count": 85,
   "id": "aae9046a",
   "metadata": {
    "papermill": {
     "duration": 0.088025,
     "end_time": "2024-01-29T11:02:10.617462",
     "exception": false,
     "start_time": "2024-01-29T11:02:10.529437",
     "status": "completed"
    },
    "tags": []
   },
   "outputs": [
    {
     "data": {
      "text/html": [
       "<div>\n",
       "<style scoped>\n",
       "    .dataframe tbody tr th:only-of-type {\n",
       "        vertical-align: middle;\n",
       "    }\n",
       "\n",
       "    .dataframe tbody tr th {\n",
       "        vertical-align: top;\n",
       "    }\n",
       "\n",
       "    .dataframe thead th {\n",
       "        text-align: right;\n",
       "    }\n",
       "</style>\n",
       "<table border=\"1\" class=\"dataframe\">\n",
       "  <thead>\n",
       "    <tr style=\"text-align: right;\">\n",
       "      <th></th>\n",
       "      <th>survived</th>\n",
       "      <th>pclass</th>\n",
       "      <th>age_bin</th>\n",
       "      <th>fare_bin</th>\n",
       "      <th>family_size</th>\n",
       "      <th>connections</th>\n",
       "      <th>sex_female</th>\n",
       "      <th>sex_male</th>\n",
       "    </tr>\n",
       "  </thead>\n",
       "  <tbody>\n",
       "    <tr>\n",
       "      <th>0</th>\n",
       "      <td>0.0</td>\n",
       "      <td>3</td>\n",
       "      <td>1</td>\n",
       "      <td>0</td>\n",
       "      <td>2</td>\n",
       "      <td>0.5</td>\n",
       "      <td>0</td>\n",
       "      <td>1</td>\n",
       "    </tr>\n",
       "    <tr>\n",
       "      <th>1</th>\n",
       "      <td>1.0</td>\n",
       "      <td>1</td>\n",
       "      <td>3</td>\n",
       "      <td>4</td>\n",
       "      <td>2</td>\n",
       "      <td>0.5</td>\n",
       "      <td>1</td>\n",
       "      <td>0</td>\n",
       "    </tr>\n",
       "    <tr>\n",
       "      <th>2</th>\n",
       "      <td>1.0</td>\n",
       "      <td>3</td>\n",
       "      <td>1</td>\n",
       "      <td>1</td>\n",
       "      <td>1</td>\n",
       "      <td>0.5</td>\n",
       "      <td>1</td>\n",
       "      <td>0</td>\n",
       "    </tr>\n",
       "    <tr>\n",
       "      <th>3</th>\n",
       "      <td>1.0</td>\n",
       "      <td>1</td>\n",
       "      <td>2</td>\n",
       "      <td>4</td>\n",
       "      <td>2</td>\n",
       "      <td>0.0</td>\n",
       "      <td>1</td>\n",
       "      <td>0</td>\n",
       "    </tr>\n",
       "    <tr>\n",
       "      <th>4</th>\n",
       "      <td>0.0</td>\n",
       "      <td>3</td>\n",
       "      <td>2</td>\n",
       "      <td>1</td>\n",
       "      <td>1</td>\n",
       "      <td>0.5</td>\n",
       "      <td>0</td>\n",
       "      <td>1</td>\n",
       "    </tr>\n",
       "  </tbody>\n",
       "</table>\n",
       "</div>"
      ],
      "text/plain": [
       "   survived  pclass  age_bin  fare_bin  family_size  connections  sex_female  \\\n",
       "0       0.0       3        1         0            2          0.5           0   \n",
       "1       1.0       1        3         4            2          0.5           1   \n",
       "2       1.0       3        1         1            1          0.5           1   \n",
       "3       1.0       1        2         4            2          0.0           1   \n",
       "4       0.0       3        2         1            1          0.5           0   \n",
       "\n",
       "   sex_male  \n",
       "0         1  \n",
       "1         0  \n",
       "2         0  \n",
       "3         0  \n",
       "4         1  "
      ]
     },
     "execution_count": 85,
     "metadata": {},
     "output_type": "execute_result"
    }
   ],
   "source": [
    "df_train.head()"
   ]
  },
  {
   "cell_type": "code",
   "execution_count": 86,
   "id": "33845624",
   "metadata": {
    "papermill": {
     "duration": 0.078797,
     "end_time": "2024-01-29T11:02:10.767337",
     "exception": false,
     "start_time": "2024-01-29T11:02:10.688540",
     "status": "completed"
    },
    "tags": []
   },
   "outputs": [],
   "source": [
    "X = df_train.drop('survived', axis=1)\n",
    "y = df_train['survived']"
   ]
  },
  {
   "cell_type": "markdown",
   "id": "9f4f0ed8",
   "metadata": {
    "papermill": {
     "duration": 0.066211,
     "end_time": "2024-01-29T11:02:10.900292",
     "exception": false,
     "start_time": "2024-01-29T11:02:10.834081",
     "status": "completed"
    },
    "tags": []
   },
   "source": [
    "# Create Basic Model"
   ]
  },
  {
   "cell_type": "code",
   "execution_count": 87,
   "id": "8a1c27b5",
   "metadata": {
    "papermill": {
     "duration": 3.014603,
     "end_time": "2024-01-29T11:02:13.982712",
     "exception": false,
     "start_time": "2024-01-29T11:02:10.968109",
     "status": "completed"
    },
    "tags": []
   },
   "outputs": [
    {
     "data": {
      "text/plain": [
       "0.8294257178526842"
      ]
     },
     "execution_count": 87,
     "metadata": {},
     "output_type": "execute_result"
    }
   ],
   "source": [
    "rf = RandomForestClassifier(random_state=0) \n",
    "\n",
    "rf.fit(X,y)\n",
    "\n",
    "rf_cv = cross_val_score(rf,X,y, cv = 10,scoring = 'accuracy').mean()\n",
    "rf_cv"
   ]
  },
  {
   "cell_type": "markdown",
   "id": "ea37b0d9-a605-4a73-8cee-fcb1b1fa2160",
   "metadata": {},
   "source": [
    "## Feature Importances"
   ]
  },
  {
   "cell_type": "code",
   "execution_count": 88,
   "id": "a62a120d",
   "metadata": {
    "papermill": {
     "duration": 0.482843,
     "end_time": "2024-01-29T11:02:14.556104",
     "exception": false,
     "start_time": "2024-01-29T11:02:14.073261",
     "status": "completed"
    },
    "tags": []
   },
   "outputs": [
    {
     "data": {
      "text/plain": [
       "Text(0.5, 1.0, 'Feature Importances')"
      ]
     },
     "execution_count": 88,
     "metadata": {},
     "output_type": "execute_result"
    },
    {
     "data": {
      "image/png": "[encoded data removed]",
      "text/plain": [
       "<Figure size 800x500 with 1 Axes>"
      ]
     },
     "metadata": {},
     "output_type": "display_data"
    }
   ],
   "source": [
    "importances = pd.DataFrame(rf.feature_importances_,index = X.columns)\n",
    "importances.sort_values(by = 0, inplace=True, ascending = False)\n",
    "\n",
    "plt.figure(figsize=(8, 5)) \n",
    "sns.barplot(x=0, y=importances.index, data=importances).set_title('Feature Importances')"
   ]
  },
  {
   "cell_type": "code",
   "execution_count": 89,
   "id": "54c8b84c",
   "metadata": {
    "papermill": {
     "duration": 9.384143,
     "end_time": "2024-01-29T11:02:24.010950",
     "exception": false,
     "start_time": "2024-01-29T11:02:14.626807",
     "status": "completed"
    },
    "tags": []
   },
   "outputs": [
    {
     "data": {
      "text/html": [
       "<div>\n",
       "<style scoped>\n",
       "    .dataframe tbody tr th:only-of-type {\n",
       "        vertical-align: middle;\n",
       "    }\n",
       "\n",
       "    .dataframe tbody tr th {\n",
       "        vertical-align: top;\n",
       "    }\n",
       "\n",
       "    .dataframe thead th {\n",
       "        text-align: right;\n",
       "    }\n",
       "</style>\n",
       "<table border=\"1\" class=\"dataframe\">\n",
       "  <thead>\n",
       "    <tr style=\"text-align: right;\">\n",
       "      <th></th>\n",
       "      <th>CV Mean</th>\n",
       "      <th>Std</th>\n",
       "    </tr>\n",
       "  </thead>\n",
       "  <tbody>\n",
       "    <tr>\n",
       "      <th>ExtraTrees</th>\n",
       "      <td>0.831685</td>\n",
       "      <td>0.041866</td>\n",
       "    </tr>\n",
       "    <tr>\n",
       "      <th>SVC</th>\n",
       "      <td>0.831648</td>\n",
       "      <td>0.035179</td>\n",
       "    </tr>\n",
       "    <tr>\n",
       "      <th>GradientB</th>\n",
       "      <td>0.831635</td>\n",
       "      <td>0.031846</td>\n",
       "    </tr>\n",
       "    <tr>\n",
       "      <th>Random Forest</th>\n",
       "      <td>0.828302</td>\n",
       "      <td>0.036493</td>\n",
       "    </tr>\n",
       "    <tr>\n",
       "      <th>XGB</th>\n",
       "      <td>0.826067</td>\n",
       "      <td>0.032084</td>\n",
       "    </tr>\n",
       "    <tr>\n",
       "      <th>Decision Tree</th>\n",
       "      <td>0.821561</td>\n",
       "      <td>0.041210</td>\n",
       "    </tr>\n",
       "    <tr>\n",
       "      <th>Logistic Regression</th>\n",
       "      <td>0.820449</td>\n",
       "      <td>0.019212</td>\n",
       "    </tr>\n",
       "    <tr>\n",
       "      <th>KNN</th>\n",
       "      <td>0.815943</td>\n",
       "      <td>0.035211</td>\n",
       "    </tr>\n",
       "    <tr>\n",
       "      <th>AdaB</th>\n",
       "      <td>0.810337</td>\n",
       "      <td>0.018289</td>\n",
       "    </tr>\n",
       "    <tr>\n",
       "      <th>Naive Bayes</th>\n",
       "      <td>0.793521</td>\n",
       "      <td>0.016374</td>\n",
       "    </tr>\n",
       "  </tbody>\n",
       "</table>\n",
       "</div>"
      ],
      "text/plain": [
       "                      CV Mean       Std\n",
       "ExtraTrees           0.831685  0.041866\n",
       "SVC                  0.831648  0.035179\n",
       "GradientB            0.831635  0.031846\n",
       "Random Forest        0.828302  0.036493\n",
       "XGB                  0.826067  0.032084\n",
       "Decision Tree        0.821561  0.041210\n",
       "Logistic Regression  0.820449  0.019212\n",
       "KNN                  0.815943  0.035211\n",
       "AdaB                 0.810337  0.018289\n",
       "Naive Bayes          0.793521  0.016374"
      ]
     },
     "execution_count": 89,
     "metadata": {},
     "output_type": "execute_result"
    }
   ],
   "source": [
    "classifiers=['Logistic Regression','KNN','Decision Tree','Naive Bayes','Random Forest','SVC','XGB','GradientB','AdaB','ExtraTrees']\n",
    "\n",
    "models=[LogisticRegression(),\n",
    "        KNeighborsClassifier(),\n",
    "        DecisionTreeClassifier(),\n",
    "        GaussianNB(),\n",
    "        RandomForestClassifier(),\n",
    "        SVC(),\n",
    "        XGBClassifier(),\n",
    "        GradientBoostingClassifier(),\n",
    "        AdaBoostClassifier(),\n",
    "        ExtraTreesClassifier()]\n",
    "\n",
    "cv_mean = []\n",
    "cv_std = []\n",
    "\n",
    "for model in models:\n",
    "    model=model\n",
    "    cv = cross_val_score(model,X,y,cv=10)\n",
    "    cv_std.append(cv.std())\n",
    "    cv_mean.append(cv.mean())\n",
    "\n",
    "cv_dataframe = pd.DataFrame({'CV Mean':cv_mean,'Std':cv_std},index=classifiers)       \n",
    "cv_dataframe=cv_dataframe.sort_values(by=['CV Mean'], ascending = False)\n",
    "cv_dataframe"
   ]
  },
  {
   "cell_type": "markdown",
   "id": "696b8fb4",
   "metadata": {
    "papermill": {
     "duration": 0.067582,
     "end_time": "2024-01-29T11:02:24.147644",
     "exception": false,
     "start_time": "2024-01-29T11:02:24.080062",
     "status": "completed"
    },
    "tags": []
   },
   "source": [
    "# Hyperparameter Tuning"
   ]
  },
  {
   "cell_type": "markdown",
   "id": "5387dbeb-dcb4-42f9-8e65-b55b98e79201",
   "metadata": {},
   "source": [
    "## Decision Tree Classifier"
   ]
  },
  {
   "cell_type": "code",
   "execution_count": 90,
   "id": "5a4967cb",
   "metadata": {
    "papermill": {
     "duration": 4.340635,
     "end_time": "2024-01-29T11:02:28.558211",
     "exception": false,
     "start_time": "2024-01-29T11:02:24.217576",
     "status": "completed"
    },
    "tags": []
   },
   "outputs": [
    {
     "name": "stdout",
     "output_type": "stream",
     "text": [
      "0.8405992509363296\n",
      "{'criterion': 'entropy', 'max_depth': 3}\n",
      "DecisionTreeClassifier(criterion='entropy', max_depth=3)\n"
     ]
    }
   ],
   "source": [
    "parameters = {'max_depth':range(1,30), \n",
    "              'criterion': [\"entropy\", \"gini\"]}\n",
    "\n",
    "dt_tune = GridSearchCV(estimator=DecisionTreeClassifier(), \n",
    "                        param_grid=parameters, \n",
    "                        verbose=False, \n",
    "                        cv=10,\n",
    "                        n_jobs = -1)\n",
    "\n",
    "dt_tune.fit(X, y) \n",
    "\n",
    "dt_model = dt_tune.best_estimator_\n",
    "\n",
    "print (dt_tune.best_score_)\n",
    "print (dt_tune.best_params_)\n",
    "print (dt_tune.best_estimator_)"
   ]
  },
  {
   "cell_type": "markdown",
   "id": "6bb9a57e-e7c3-49bd-baf0-17a3e4567bdf",
   "metadata": {},
   "source": [
    "## Support Vector Classifier (SVC)"
   ]
  },
  {
   "cell_type": "code",
   "execution_count": null,
   "id": "3e389d44",
   "metadata": {
    "papermill": {
     "duration": 51.150793,
     "end_time": "2024-01-29T11:03:19.778527",
     "exception": false,
     "start_time": "2024-01-29T11:02:28.627734",
     "status": "completed"
    },
    "tags": []
   },
   "outputs": [],
   "source": [
    "parameters = {'kernel': ['rbf'], \n",
    "              'gamma': [0.01,0.02,0.05,0.1,0.5],\n",
    "              'C': [0.1, 0.5,1,2,3,4,5,6,7,8]},\n",
    "\n",
    "svc_tune = GridSearchCV(SVC(probability=True), \n",
    "                         param_grid=parameters, \n",
    "                         cv=10) \n",
    "\n",
    "svc_tune.fit(X,y)\n",
    "\n",
    "svc_model = svc_tune.best_estimator_\n",
    "\n",
    "print(svc_tune.best_score_)\n",
    "print(svc_tune.best_params_)\n",
    "print(svc_tune.best_estimator_)"
   ]
  },
  {
   "cell_type": "markdown",
   "id": "400ee20b-84b7-4f44-a6b8-c522b23e585f",
   "metadata": {},
   "source": [
    "## k Nearest Neighbor Classifier"
   ]
  },
  {
   "cell_type": "code",
   "execution_count": null,
   "id": "616dc6b0",
   "metadata": {
    "papermill": {
     "duration": 3.773324,
     "end_time": "2024-01-29T11:03:23.619041",
     "exception": false,
     "start_time": "2024-01-29T11:03:19.845717",
     "status": "completed"
    },
    "tags": []
   },
   "outputs": [],
   "source": [
    "parameters = {'n_neighbors':range(1,41), \n",
    "              'weights':['uniform','distance']}\n",
    "\n",
    "knn_tune = GridSearchCV(estimator=KNeighborsClassifier(), \n",
    "                         param_grid=parameters,\n",
    "                         cv=10,\n",
    "                         verbose = False, \n",
    "                         n_jobs=-1)\n",
    "\n",
    "knn_tune.fit(X,y)\n",
    "\n",
    "knn_model = knn_tune.best_estimator_\n",
    "\n",
    "print(knn_tune.best_score_)\n",
    "print(knn_tune.best_params_)\n",
    "print(knn_tune.best_estimator_)"
   ]
  },
  {
   "cell_type": "markdown",
   "id": "447c46d3-de14-4250-82cc-215bb07112fd",
   "metadata": {},
   "source": [
    "## Extreme Gradient Boosting"
   ]
  },
  {
   "cell_type": "code",
   "execution_count": null,
   "id": "3927bd50",
   "metadata": {
    "papermill": {
     "duration": 1.044881,
     "end_time": "2024-01-29T11:03:25.020461",
     "exception": false,
     "start_time": "2024-01-29T11:03:23.975580",
     "status": "completed"
    },
    "tags": []
   },
   "outputs": [],
   "source": [
    "xgb_model = XGBClassifier(n_estimators=100,\n",
    "                          learning_rate= 0.01,\n",
    "                          max_depth=6,\n",
    "                          colsample_bytree= 0.75,\n",
    "                          min_child_weight= 0.01,\n",
    "                          subsample= 0.6,\n",
    "                          random_state=0)\n",
    "\n",
    "xgb_model.fit(X,y)\n",
    "\n",
    "xgb_cv =cross_val_score(xgb_model,X,y, cv = 10,scoring = \"accuracy\").mean()\n",
    "xgb_cv"
   ]
  },
  {
   "cell_type": "markdown",
   "id": "bd266fe6-0a17-4b94-afd8-d884c78b4013",
   "metadata": {},
   "source": [
    "## Random Forest"
   ]
  },
  {
   "cell_type": "code",
   "execution_count": null,
   "id": "5e19a9c8",
   "metadata": {
    "papermill": {
     "duration": 5.4723,
     "end_time": "2024-01-29T11:03:30.847358",
     "exception": false,
     "start_time": "2024-01-29T11:03:25.375058",
     "status": "completed"
    },
    "tags": []
   },
   "outputs": [],
   "source": [
    "rf_model = RandomForestClassifier(criterion='entropy',\n",
    "                                  n_estimators=100,\n",
    "                                  max_depth=7,\n",
    "                                  min_samples_split=20,\n",
    "                                  min_samples_leaf=6,\n",
    "                                  oob_score=True,\n",
    "                                  random_state=0,\n",
    "                                  n_jobs=-1,\n",
    "                                  verbose=0) \n",
    "\n",
    "rf_model.fit(X,y)\n",
    "\n",
    "rf_cv = cross_val_score(rf_model,X,y, cv = 10,scoring = \"accuracy\").mean()\n",
    "rf_cv"
   ]
  },
  {
   "cell_type": "markdown",
   "id": "67445236-f75d-44e0-8e1d-e89b0e382442",
   "metadata": {},
   "source": [
    "## Gradient Boosting"
   ]
  },
  {
   "cell_type": "code",
   "execution_count": null,
   "id": "7f36460f",
   "metadata": {
    "papermill": {
     "duration": 1.713907,
     "end_time": "2024-01-29T11:03:32.777122",
     "exception": false,
     "start_time": "2024-01-29T11:03:31.063215",
     "status": "completed"
    },
    "tags": []
   },
   "outputs": [],
   "source": [
    "gbm_model = GradientBoostingClassifier(n_estimators=100,\n",
    "                          learning_rate= 0.01,\n",
    "                          max_depth=3,\n",
    "                          random_state=0)\n",
    "\n",
    "gbm_model.fit(X,y)\n",
    "\n",
    "gbm_cv =cross_val_score(gbm_model,X,y, cv = 10,scoring = \"accuracy\").mean()\n",
    "gbm_cv"
   ]
  },
  {
   "cell_type": "markdown",
   "id": "a65a2790-0eea-4a27-ba81-374143c61396",
   "metadata": {},
   "source": [
    "## Extra Tree Classifier"
   ]
  },
  {
   "cell_type": "code",
   "execution_count": null,
   "id": "8149b471",
   "metadata": {
    "papermill": {
     "duration": 6.10168,
     "end_time": "2024-01-29T11:03:39.094809",
     "exception": false,
     "start_time": "2024-01-29T11:03:32.993129",
     "status": "completed"
    },
    "tags": []
   },
   "outputs": [],
   "source": [
    "et_model = ExtraTreesClassifier(criterion='gini',\n",
    "                                n_estimators=300,\n",
    "                                max_depth=6,\n",
    "                                random_state=0)\n",
    "\n",
    "et_model.fit(X,y)\n",
    "\n",
    "et_cv =cross_val_score(et_model,X,y, cv = 10,scoring = \"accuracy\").mean()\n",
    "\n",
    "et_cv"
   ]
  },
  {
   "cell_type": "markdown",
   "id": "e0798ce9-c7f9-40c3-a233-7a43fc5f4ced",
   "metadata": {},
   "source": [
    "## Logistic Regression"
   ]
  },
  {
   "cell_type": "code",
   "execution_count": null,
   "id": "f43a5d43",
   "metadata": {
    "papermill": {
     "duration": 0.255439,
     "end_time": "2024-01-29T11:04:49.029447",
     "exception": false,
     "start_time": "2024-01-29T11:04:48.774008",
     "status": "completed"
    },
    "tags": []
   },
   "outputs": [],
   "source": [
    "lo_model = LogisticRegression(C=0.9, penalty='l2')\n",
    "\n",
    "lo_model.fit(X,y)\n",
    "\n",
    "lo_cv =cross_val_score(lo_model,X,y, cv = 10,scoring = \"accuracy\").mean()\n",
    "\n",
    "lo_cv"
   ]
  },
  {
   "cell_type": "code",
   "execution_count": null,
   "id": "fc7203bb",
   "metadata": {
    "papermill": {
     "duration": 0.090207,
     "end_time": "2024-01-29T11:04:49.188003",
     "exception": false,
     "start_time": "2024-01-29T11:04:49.097796",
     "status": "completed"
    },
    "tags": []
   },
   "outputs": [],
   "source": [
    "scores_list=[]\n",
    "\n",
    "scores_list = [[\"XGB\",xgb_cv],\n",
    "               [\"GBM\",gbm_cv],\n",
    "               [\"ET\",et_cv],\n",
    "               [\"RF\",rf_cv], \n",
    "               [\"KNN\",knn_tune.best_score_],\n",
    "               [\"SVC\",svc_tune.best_score_],\n",
    "               [\"DT\",dt_tune.best_score_],\n",
    "               [\"LO\",lo_cv]\n",
    "              ]\n",
    "\n",
    "scores = (pd.DataFrame(scores_list,columns = [\"Model\", \"Score\"])).sort_values(by=[\"Score\"], ascending=False )\n",
    "\n",
    "scores"
   ]
  },
  {
   "cell_type": "markdown",
   "id": "e36780cf",
   "metadata": {
    "papermill": {
     "duration": 0.072388,
     "end_time": "2024-01-29T11:04:49.330705",
     "exception": false,
     "start_time": "2024-01-29T11:04:49.258317",
     "status": "completed"
    },
    "tags": []
   },
   "source": [
    "# Voting Classifier"
   ]
  },
  {
   "cell_type": "markdown",
   "id": "549d9b1a-dc05-4cf0-8562-8765db5a495e",
   "metadata": {},
   "source": [
    "## Define Estimators"
   ]
  },
  {
   "cell_type": "code",
   "execution_count": null,
   "id": "ee62e264",
   "metadata": {
    "papermill": {
     "duration": 8.341471,
     "end_time": "2024-01-29T11:04:57.744922",
     "exception": false,
     "start_time": "2024-01-29T11:04:49.403451",
     "status": "completed"
    },
    "tags": []
   },
   "outputs": [],
   "source": [
    "estimators = [('RF',rf_model),\n",
    "              ('GBM',gbm_model),\n",
    "              #('DT',dt_model),\n",
    "              ('SVC',svc_model), \n",
    "              #('XGB', xgb_model),\n",
    "              #('KNN',knn_model),\n",
    "             ]\n",
    "\n",
    "voting_model = VotingClassifier(estimators=estimators, voting='soft')\n",
    "\n",
    "voting_soft = voting_model.fit(X, y)\n",
    "\n",
    "voting_cv = cross_val_score(voting_model,X,y, cv = 10, scoring = \"accuracy\").mean()\n",
    "\n",
    "voting_cv"
   ]
  },
  {
   "cell_type": "markdown",
   "id": "bad14162-a1a3-45ac-a0ca-24cd7d81d524",
   "metadata": {},
   "source": [
    "## Make predictions on the test dataset"
   ]
  },
  {
   "cell_type": "code",
   "execution_count": null,
   "id": "b601b009",
   "metadata": {
    "papermill": {
     "duration": 0.152535,
     "end_time": "2024-01-29T11:04:57.967323",
     "exception": false,
     "start_time": "2024-01-29T11:04:57.814788",
     "status": "completed"
    },
    "tags": []
   },
   "outputs": [],
   "source": [
    "voting_predict = voting_model.predict(df_test).astype(int)\n",
    "\n",
    "voting_output = pd.DataFrame({'passengerid': test['PassengerId'],\n",
    "                              'survived': voting_predict})\n",
    "voting_output.to_csv('submission_vote.csv', index=False)\n",
    "voting_output.head()"
   ]
  },
  {
   "cell_type": "markdown",
   "id": "a10b91af-7b16-4434-9607-dd37f6cb933f",
   "metadata": {},
   "source": [
    "## Voting Classifier with Top 5 models"
   ]
  },
  {
   "cell_type": "code",
   "execution_count": null,
   "id": "124835a9",
   "metadata": {
    "papermill": {
     "duration": 9.19654,
     "end_time": "2024-01-29T11:05:07.235683",
     "exception": false,
     "start_time": "2024-01-29T11:04:58.039143",
     "status": "completed"
    },
    "tags": []
   },
   "outputs": [],
   "source": [
    "estimators = [('RF',rf_model),\n",
    "              ('GBM',gbm_model),\n",
    "              ('DT',dt_model),\n",
    "              ('SVC',svc_model), \n",
    "              ('XGB', xgb_model),\n",
    "              #('KNN',knn_model),\n",
    "             ]\n",
    "\n",
    "voting5_model = VotingClassifier(estimators=estimators,\n",
    "                                voting='soft')\n",
    "\n",
    "voting5_soft = voting5_model.fit(X, y)\n",
    "\n",
    "voting5_cv = cross_val_score(voting5_model,X,y, cv = 10,\n",
    "                             scoring = \"accuracy\").mean()\n",
    "\n",
    "voting5_cv"
   ]
  },
  {
   "cell_type": "code",
   "execution_count": null,
   "id": "697a13e4",
   "metadata": {
    "papermill": {
     "duration": 0.178039,
     "end_time": "2024-01-29T11:05:07.484426",
     "exception": false,
     "start_time": "2024-01-29T11:05:07.306387",
     "status": "completed"
    },
    "tags": []
   },
   "outputs": [],
   "source": [
    "voting5_predict = voting5_model.predict(df_test).astype(int)\n",
    "\n",
    "\n",
    "voting5_output = pd.DataFrame({'passengerid': test['PassengerId'],\n",
    "                              'survived': voting5_predict})\n",
    "voting5_output.to_csv('submission_vote5.csv', index=False)\n",
    "voting5_output.head()"
   ]
  },
  {
   "cell_type": "markdown",
   "id": "d278f079",
   "metadata": {
    "papermill": {
     "duration": 0.06865,
     "end_time": "2024-01-29T11:05:07.623199",
     "exception": false,
     "start_time": "2024-01-29T11:05:07.554549",
     "status": "completed"
    },
    "tags": []
   },
   "source": [
    "# Stacking Classifier"
   ]
  },
  {
   "cell_type": "markdown",
   "id": "7c01efc8-7137-4c08-9f8b-a74bb47d2365",
   "metadata": {},
   "source": [
    "## Define Estimators"
   ]
  },
  {
   "cell_type": "code",
   "execution_count": null,
   "id": "ac4bc460",
   "metadata": {
    "papermill": {
     "duration": 52.778816,
     "end_time": "2024-01-29T11:06:00.470152",
     "exception": false,
     "start_time": "2024-01-29T11:05:07.691336",
     "status": "completed"
    },
    "tags": []
   },
   "outputs": [],
   "source": [
    "estimators = [('RF',rf_model),\n",
    "              ('GBM',gbm_model),\n",
    "              #('DT',dt_model),\n",
    "              ('SVC',svc_model),\n",
    "              ('XGB', xgb_model),\n",
    "              #('KNN',knn_model),\n",
    "             ]\n",
    "\n",
    "final_estimator = lo_model\n",
    "\n",
    "stacked_model = StackingClassifier(estimators=estimators, \n",
    "                                   final_estimator=final_estimator)\n",
    "\n",
    "stacked_model.fit(X, y)\n",
    "\n",
    "stacked_cv = cross_val_score(stacked_model,X,y, cv = 10,\n",
    "                             scoring = \"accuracy\").mean()\n",
    "\n",
    "stacked_cv"
   ]
  },
  {
   "cell_type": "markdown",
   "id": "9082cd33-5634-4e16-a9d6-8548d20e31fc",
   "metadata": {},
   "source": [
    "## Make predictions on the test dataset"
   ]
  },
  {
   "cell_type": "markdown",
   "id": "7ae24247-86a5-474d-b240-c8f6e32a342b",
   "metadata": {},
   "source": [
    "### Stacked Predictions"
   ]
  },
  {
   "cell_type": "code",
   "execution_count": null,
   "id": "1f35728f",
   "metadata": {
    "papermill": {
     "duration": 0.166462,
     "end_time": "2024-01-29T11:06:00.705754",
     "exception": false,
     "start_time": "2024-01-29T11:06:00.539292",
     "status": "completed"
    },
    "tags": []
   },
   "outputs": [],
   "source": [
    "stacked_predict = stacked_model.predict(df_test).astype(int)\n",
    "\n",
    "stacked_output = pd.DataFrame({'passengerid': test['PassengerId'],\n",
    "                               'survived': stacked_predict})\n",
    "stacked_output.to_csv('submission_stacked.csv', index=False)\n",
    "stacked_output.head()"
   ]
  },
  {
   "cell_type": "markdown",
   "id": "ffeea32c-775b-4b30-8ea2-698ac6fa4538",
   "metadata": {},
   "source": [
    "### Decision Tree Predictions"
   ]
  },
  {
   "cell_type": "code",
   "execution_count": null,
   "id": "64800544",
   "metadata": {
    "_kg_hide-input": false,
    "papermill": {
     "duration": 0.092988,
     "end_time": "2024-01-29T11:06:00.871093",
     "exception": false,
     "start_time": "2024-01-29T11:06:00.778105",
     "status": "completed"
    },
    "tags": []
   },
   "outputs": [],
   "source": [
    "dt_predict = dt_model.predict(df_test).astype(int)\n",
    "\n",
    "dt_output = pd.DataFrame({'passengerid': test['PassengerId'],\n",
    "                      'survived': dt_predict})\n",
    "dt_output.to_csv('submission_dt.csv', index=False)\n",
    "dt_output.head()"
   ]
  },
  {
   "cell_type": "markdown",
   "id": "3c4b3608-95d5-4e19-906d-42d7659d8626",
   "metadata": {},
   "source": [
    "### Gradient Boosting Model Predictions"
   ]
  },
  {
   "cell_type": "code",
   "execution_count": null,
   "id": "ccf775cd",
   "metadata": {
    "papermill": {
     "duration": 0.098441,
     "end_time": "2024-01-29T11:06:01.041850",
     "exception": false,
     "start_time": "2024-01-29T11:06:00.943409",
     "status": "completed"
    },
    "tags": []
   },
   "outputs": [],
   "source": [
    "gbm_predict = gbm_model.predict(df_test).astype(int)\n",
    "\n",
    "gbm_output = pd.DataFrame({'passengerid': test['PassengerId'],\n",
    "                      'survived': gbm_predict})\n",
    "gbm_output.to_csv('submission_gbm.csv', index=False)\n",
    "gbm_output.head()"
   ]
  },
  {
   "cell_type": "markdown",
   "id": "c7aafefd-fb49-441c-b88b-814fc5578fd9",
   "metadata": {},
   "source": [
    "### Extreme Gradient Boosting Predictions"
   ]
  },
  {
   "cell_type": "code",
   "execution_count": null,
   "id": "2dbfb3fd",
   "metadata": {
    "papermill": {
     "duration": 0.114438,
     "end_time": "2024-01-29T11:06:01.227293",
     "exception": false,
     "start_time": "2024-01-29T11:06:01.112855",
     "status": "completed"
    },
    "tags": []
   },
   "outputs": [],
   "source": [
    "xgb_predict = xgb_model.predict(df_test).astype(int)\n",
    "\n",
    "xgb_output = pd.DataFrame({'passengerid': test['PassengerId'],\n",
    "                      'survived': xgb_predict})\n",
    "xgb_output.to_csv('submission_xgb.csv', index=False)\n",
    "xgb_output.head()"
   ]
  },
  {
   "cell_type": "markdown",
   "id": "cc1ac142-5067-45ce-87fa-b6d64934453b",
   "metadata": {},
   "source": [
    "### Random Forest Predictions"
   ]
  },
  {
   "cell_type": "code",
   "execution_count": null,
   "id": "c8a7d5e8",
   "metadata": {
    "papermill": {
     "duration": 0.141844,
     "end_time": "2024-01-29T11:06:01.439636",
     "exception": false,
     "start_time": "2024-01-29T11:06:01.297792",
     "status": "completed"
    },
    "tags": []
   },
   "outputs": [],
   "source": [
    "rf_predict = rf_model.predict(df_test).astype(int)\n",
    "\n",
    "rf_output = pd.DataFrame({'passengerid': test['PassengerId'],\n",
    "                      'survived': rf_predict})\n",
    "rf_output.to_csv('submission_rf.csv', index=False)\n",
    "rf_output.head()"
   ]
  },
  {
   "cell_type": "markdown",
   "id": "28d3df94",
   "metadata": {
    "papermill": {
     "duration": 0.070588,
     "end_time": "2024-01-29T11:06:01.580873",
     "exception": false,
     "start_time": "2024-01-29T11:06:01.510285",
     "status": "completed"
    },
    "tags": []
   },
   "source": [
    "# The Public score after try several submission on Kaggle:\n",
    "\n",
    "* The public score of **Ramdom Forest Model = 0.80622**\n",
    "* The public score of **Extream Gradient Boosting Model = 0.80622**\n",
    "* The public score of Decision Tree Model = 0.79168\n",
    "\n",
    "\n",
    "* The public score of Voting with 3 selected model = 0.79425\n",
    "* The public score of Voting with 5 selected model = 0.78947\n",
    "* The public score of Voting with selected ALL model = 0.78468"
   ]
  }
 ],
 "metadata": {
  "kaggle": {
   "accelerator": "none",
   "dataSources": [
    {
     "databundleVersionId": 26502,
     "sourceId": 3136,
     "sourceType": "competition"
    }
   ],
   "dockerImageVersionId": 30635,
   "isGpuEnabled": false,
   "isInternetEnabled": true,
   "language": "python",
   "sourceType": "notebook"
  },
  "kernelspec": {
   "display_name": "Python 3 (ipykernel)",
   "language": "python",
   "name": "python3"
  },
  "language_info": {
   "codemirror_mode": {
    "name": "ipython",
    "version": 3
   },
   "file_extension": ".py",
   "mimetype": "text/x-python",
   "name": "python",
   "nbconvert_exporter": "python",
   "pygments_lexer": "ipython3",
   "version": "3.9.13"
  },
  "papermill": {
   "default_parameters": {},
   "duration": 267.452168,
   "end_time": "2024-01-29T11:06:04.420173",
   "environment_variables": {},
   "exception": null,
   "input_path": "__notebook__.ipynb",
   "output_path": "__notebook__.ipynb",
   "parameters": {},
   "start_time": "2024-01-29T11:01:36.968005",
   "version": "2.4.0"
  }
 },
 "nbformat": 4,
 "nbformat_minor": 5
}
